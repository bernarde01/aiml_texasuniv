{
 "cells": [
  {
   "cell_type": "markdown",
   "metadata": {},
   "source": [
    "## Project Foundation for AIML - MovieLens Data Exploration\n",
    "\n"
   ]
  },
  {
   "cell_type": "markdown",
   "metadata": {},
   "source": [
    "##### 1: Data import (10 marks)"
   ]
  },
  {
   "cell_type": "code",
   "execution_count": 4,
   "metadata": {},
   "outputs": [],
   "source": [
    "import pandas as pd\n",
    "\n",
    "import matplotlib.pyplot as plt   \n",
    "import seaborn as sns\n",
    "\n",
    "# To enable plotting graphs in Jupyter notebook\n",
    "%matplotlib inline "
   ]
  },
  {
   "cell_type": "code",
   "execution_count": 5,
   "metadata": {},
   "outputs": [],
   "source": [
    "#import data\n",
    "\n",
    "df_ratings = pd.read_csv('ml-100k/u.data', sep = '\\t',names= ['user id', 'item id', 'rating', 'timestamp' ])\n"
   ]
  },
  {
   "cell_type": "code",
   "execution_count": 6,
   "metadata": {},
   "outputs": [
    {
     "data": {
      "text/html": [
       "<div>\n",
       "<style scoped>\n",
       "    .dataframe tbody tr th:only-of-type {\n",
       "        vertical-align: middle;\n",
       "    }\n",
       "\n",
       "    .dataframe tbody tr th {\n",
       "        vertical-align: top;\n",
       "    }\n",
       "\n",
       "    .dataframe thead th {\n",
       "        text-align: right;\n",
       "    }\n",
       "</style>\n",
       "<table border=\"1\" class=\"dataframe\">\n",
       "  <thead>\n",
       "    <tr style=\"text-align: right;\">\n",
       "      <th></th>\n",
       "      <th>user id</th>\n",
       "      <th>item id</th>\n",
       "      <th>rating</th>\n",
       "      <th>timestamp</th>\n",
       "    </tr>\n",
       "  </thead>\n",
       "  <tbody>\n",
       "    <tr>\n",
       "      <td>0</td>\n",
       "      <td>196</td>\n",
       "      <td>242</td>\n",
       "      <td>3</td>\n",
       "      <td>881250949</td>\n",
       "    </tr>\n",
       "    <tr>\n",
       "      <td>1</td>\n",
       "      <td>186</td>\n",
       "      <td>302</td>\n",
       "      <td>3</td>\n",
       "      <td>891717742</td>\n",
       "    </tr>\n",
       "    <tr>\n",
       "      <td>2</td>\n",
       "      <td>22</td>\n",
       "      <td>377</td>\n",
       "      <td>1</td>\n",
       "      <td>878887116</td>\n",
       "    </tr>\n",
       "    <tr>\n",
       "      <td>3</td>\n",
       "      <td>244</td>\n",
       "      <td>51</td>\n",
       "      <td>2</td>\n",
       "      <td>880606923</td>\n",
       "    </tr>\n",
       "    <tr>\n",
       "      <td>4</td>\n",
       "      <td>166</td>\n",
       "      <td>346</td>\n",
       "      <td>1</td>\n",
       "      <td>886397596</td>\n",
       "    </tr>\n",
       "  </tbody>\n",
       "</table>\n",
       "</div>"
      ],
      "text/plain": [
       "   user id  item id  rating  timestamp\n",
       "0      196      242       3  881250949\n",
       "1      186      302       3  891717742\n",
       "2       22      377       1  878887116\n",
       "3      244       51       2  880606923\n",
       "4      166      346       1  886397596"
      ]
     },
     "execution_count": 6,
     "metadata": {},
     "output_type": "execute_result"
    }
   ],
   "source": [
    "df_ratings.head()"
   ]
  },
  {
   "cell_type": "code",
   "execution_count": 7,
   "metadata": {},
   "outputs": [
    {
     "name": "stdout",
     "output_type": "stream",
     "text": [
      "<class 'pandas.core.frame.DataFrame'>\n",
      "RangeIndex: 100000 entries, 0 to 99999\n",
      "Data columns (total 4 columns):\n",
      "user id      100000 non-null int64\n",
      "item id      100000 non-null int64\n",
      "rating       100000 non-null int64\n",
      "timestamp    100000 non-null int64\n",
      "dtypes: int64(4)\n",
      "memory usage: 3.1 MB\n"
     ]
    }
   ],
   "source": [
    "df_ratings.info()"
   ]
  },
  {
   "cell_type": "markdown",
   "metadata": {},
   "source": [
    "Import u.genre and generate a list of genres. This will be used to add the genre names to the item dataframe"
   ]
  },
  {
   "cell_type": "code",
   "execution_count": 8,
   "metadata": {},
   "outputs": [],
   "source": [
    "df_genre = pd.read_csv('ml-100k/u.genre', sep = \"|\",names= ['genre', 'genre id' ])"
   ]
  },
  {
   "cell_type": "code",
   "execution_count": 9,
   "metadata": {
    "scrolled": true
   },
   "outputs": [
    {
     "data": {
      "text/html": [
       "<div>\n",
       "<style scoped>\n",
       "    .dataframe tbody tr th:only-of-type {\n",
       "        vertical-align: middle;\n",
       "    }\n",
       "\n",
       "    .dataframe tbody tr th {\n",
       "        vertical-align: top;\n",
       "    }\n",
       "\n",
       "    .dataframe thead th {\n",
       "        text-align: right;\n",
       "    }\n",
       "</style>\n",
       "<table border=\"1\" class=\"dataframe\">\n",
       "  <thead>\n",
       "    <tr style=\"text-align: right;\">\n",
       "      <th></th>\n",
       "      <th>genre</th>\n",
       "      <th>genre id</th>\n",
       "    </tr>\n",
       "  </thead>\n",
       "  <tbody>\n",
       "    <tr>\n",
       "      <td>0</td>\n",
       "      <td>unknown</td>\n",
       "      <td>0</td>\n",
       "    </tr>\n",
       "    <tr>\n",
       "      <td>1</td>\n",
       "      <td>Action</td>\n",
       "      <td>1</td>\n",
       "    </tr>\n",
       "    <tr>\n",
       "      <td>2</td>\n",
       "      <td>Adventure</td>\n",
       "      <td>2</td>\n",
       "    </tr>\n",
       "    <tr>\n",
       "      <td>3</td>\n",
       "      <td>Animation</td>\n",
       "      <td>3</td>\n",
       "    </tr>\n",
       "    <tr>\n",
       "      <td>4</td>\n",
       "      <td>Children's</td>\n",
       "      <td>4</td>\n",
       "    </tr>\n",
       "  </tbody>\n",
       "</table>\n",
       "</div>"
      ],
      "text/plain": [
       "        genre  genre id\n",
       "0     unknown         0\n",
       "1      Action         1\n",
       "2   Adventure         2\n",
       "3   Animation         3\n",
       "4  Children's         4"
      ]
     },
     "execution_count": 9,
     "metadata": {},
     "output_type": "execute_result"
    }
   ],
   "source": [
    "df_genre.head(5)"
   ]
  },
  {
   "cell_type": "code",
   "execution_count": 10,
   "metadata": {},
   "outputs": [
    {
     "name": "stdout",
     "output_type": "stream",
     "text": [
      "['unknown', 'Action', 'Adventure', 'Animation', \"Children's\", 'Comedy', 'Crime', 'Documentary', 'Drama', 'Fantasy', 'Film-Noir', 'Horror', 'Musical', 'Mystery', 'Romance', 'Sci-Fi', 'Thriller', 'War', 'Western']\n"
     ]
    }
   ],
   "source": [
    "genre_list = list(df_genre['genre'])\n",
    "print(genre_list)"
   ]
  },
  {
   "cell_type": "code",
   "execution_count": 11,
   "metadata": {},
   "outputs": [
    {
     "name": "stdout",
     "output_type": "stream",
     "text": [
      "['movie id', 'movie title', 'release date', 'video release date', 'IMDb URL', 'unknown', 'Action', 'Adventure', 'Animation', \"Children's\", 'Comedy', 'Crime', 'Documentary', 'Drama', 'Fantasy', 'Film-Noir', 'Horror', 'Musical', 'Mystery', 'Romance', 'Sci-Fi', 'Thriller', 'War', 'Western']\n"
     ]
    }
   ],
   "source": [
    "column_names = ['movie id', 'movie title', 'release date', 'video release date', 'IMDb URL'] + genre_list\n",
    "print(column_names)"
   ]
  },
  {
   "cell_type": "code",
   "execution_count": 12,
   "metadata": {},
   "outputs": [],
   "source": [
    "df_items = pd.read_csv('ml-100k/u.item', sep = \"|\",names= column_names, encoding = \"ISO-8859-1\")"
   ]
  },
  {
   "cell_type": "code",
   "execution_count": 13,
   "metadata": {},
   "outputs": [
    {
     "data": {
      "text/html": [
       "<div>\n",
       "<style scoped>\n",
       "    .dataframe tbody tr th:only-of-type {\n",
       "        vertical-align: middle;\n",
       "    }\n",
       "\n",
       "    .dataframe tbody tr th {\n",
       "        vertical-align: top;\n",
       "    }\n",
       "\n",
       "    .dataframe thead th {\n",
       "        text-align: right;\n",
       "    }\n",
       "</style>\n",
       "<table border=\"1\" class=\"dataframe\">\n",
       "  <thead>\n",
       "    <tr style=\"text-align: right;\">\n",
       "      <th></th>\n",
       "      <th>movie id</th>\n",
       "      <th>movie title</th>\n",
       "      <th>release date</th>\n",
       "      <th>video release date</th>\n",
       "      <th>IMDb URL</th>\n",
       "      <th>unknown</th>\n",
       "      <th>Action</th>\n",
       "      <th>Adventure</th>\n",
       "      <th>Animation</th>\n",
       "      <th>Children's</th>\n",
       "      <th>...</th>\n",
       "      <th>Fantasy</th>\n",
       "      <th>Film-Noir</th>\n",
       "      <th>Horror</th>\n",
       "      <th>Musical</th>\n",
       "      <th>Mystery</th>\n",
       "      <th>Romance</th>\n",
       "      <th>Sci-Fi</th>\n",
       "      <th>Thriller</th>\n",
       "      <th>War</th>\n",
       "      <th>Western</th>\n",
       "    </tr>\n",
       "  </thead>\n",
       "  <tbody>\n",
       "    <tr>\n",
       "      <td>0</td>\n",
       "      <td>1</td>\n",
       "      <td>Toy Story (1995)</td>\n",
       "      <td>01-Jan-1995</td>\n",
       "      <td>NaN</td>\n",
       "      <td>http://us.imdb.com/M/title-exact?Toy%20Story%2...</td>\n",
       "      <td>0</td>\n",
       "      <td>0</td>\n",
       "      <td>0</td>\n",
       "      <td>1</td>\n",
       "      <td>1</td>\n",
       "      <td>...</td>\n",
       "      <td>0</td>\n",
       "      <td>0</td>\n",
       "      <td>0</td>\n",
       "      <td>0</td>\n",
       "      <td>0</td>\n",
       "      <td>0</td>\n",
       "      <td>0</td>\n",
       "      <td>0</td>\n",
       "      <td>0</td>\n",
       "      <td>0</td>\n",
       "    </tr>\n",
       "    <tr>\n",
       "      <td>1</td>\n",
       "      <td>2</td>\n",
       "      <td>GoldenEye (1995)</td>\n",
       "      <td>01-Jan-1995</td>\n",
       "      <td>NaN</td>\n",
       "      <td>http://us.imdb.com/M/title-exact?GoldenEye%20(...</td>\n",
       "      <td>0</td>\n",
       "      <td>1</td>\n",
       "      <td>1</td>\n",
       "      <td>0</td>\n",
       "      <td>0</td>\n",
       "      <td>...</td>\n",
       "      <td>0</td>\n",
       "      <td>0</td>\n",
       "      <td>0</td>\n",
       "      <td>0</td>\n",
       "      <td>0</td>\n",
       "      <td>0</td>\n",
       "      <td>0</td>\n",
       "      <td>1</td>\n",
       "      <td>0</td>\n",
       "      <td>0</td>\n",
       "    </tr>\n",
       "    <tr>\n",
       "      <td>2</td>\n",
       "      <td>3</td>\n",
       "      <td>Four Rooms (1995)</td>\n",
       "      <td>01-Jan-1995</td>\n",
       "      <td>NaN</td>\n",
       "      <td>http://us.imdb.com/M/title-exact?Four%20Rooms%...</td>\n",
       "      <td>0</td>\n",
       "      <td>0</td>\n",
       "      <td>0</td>\n",
       "      <td>0</td>\n",
       "      <td>0</td>\n",
       "      <td>...</td>\n",
       "      <td>0</td>\n",
       "      <td>0</td>\n",
       "      <td>0</td>\n",
       "      <td>0</td>\n",
       "      <td>0</td>\n",
       "      <td>0</td>\n",
       "      <td>0</td>\n",
       "      <td>1</td>\n",
       "      <td>0</td>\n",
       "      <td>0</td>\n",
       "    </tr>\n",
       "    <tr>\n",
       "      <td>3</td>\n",
       "      <td>4</td>\n",
       "      <td>Get Shorty (1995)</td>\n",
       "      <td>01-Jan-1995</td>\n",
       "      <td>NaN</td>\n",
       "      <td>http://us.imdb.com/M/title-exact?Get%20Shorty%...</td>\n",
       "      <td>0</td>\n",
       "      <td>1</td>\n",
       "      <td>0</td>\n",
       "      <td>0</td>\n",
       "      <td>0</td>\n",
       "      <td>...</td>\n",
       "      <td>0</td>\n",
       "      <td>0</td>\n",
       "      <td>0</td>\n",
       "      <td>0</td>\n",
       "      <td>0</td>\n",
       "      <td>0</td>\n",
       "      <td>0</td>\n",
       "      <td>0</td>\n",
       "      <td>0</td>\n",
       "      <td>0</td>\n",
       "    </tr>\n",
       "    <tr>\n",
       "      <td>4</td>\n",
       "      <td>5</td>\n",
       "      <td>Copycat (1995)</td>\n",
       "      <td>01-Jan-1995</td>\n",
       "      <td>NaN</td>\n",
       "      <td>http://us.imdb.com/M/title-exact?Copycat%20(1995)</td>\n",
       "      <td>0</td>\n",
       "      <td>0</td>\n",
       "      <td>0</td>\n",
       "      <td>0</td>\n",
       "      <td>0</td>\n",
       "      <td>...</td>\n",
       "      <td>0</td>\n",
       "      <td>0</td>\n",
       "      <td>0</td>\n",
       "      <td>0</td>\n",
       "      <td>0</td>\n",
       "      <td>0</td>\n",
       "      <td>0</td>\n",
       "      <td>1</td>\n",
       "      <td>0</td>\n",
       "      <td>0</td>\n",
       "    </tr>\n",
       "  </tbody>\n",
       "</table>\n",
       "<p>5 rows × 24 columns</p>\n",
       "</div>"
      ],
      "text/plain": [
       "   movie id        movie title release date  video release date  \\\n",
       "0         1   Toy Story (1995)  01-Jan-1995                 NaN   \n",
       "1         2   GoldenEye (1995)  01-Jan-1995                 NaN   \n",
       "2         3  Four Rooms (1995)  01-Jan-1995                 NaN   \n",
       "3         4  Get Shorty (1995)  01-Jan-1995                 NaN   \n",
       "4         5     Copycat (1995)  01-Jan-1995                 NaN   \n",
       "\n",
       "                                            IMDb URL  unknown  Action  \\\n",
       "0  http://us.imdb.com/M/title-exact?Toy%20Story%2...        0       0   \n",
       "1  http://us.imdb.com/M/title-exact?GoldenEye%20(...        0       1   \n",
       "2  http://us.imdb.com/M/title-exact?Four%20Rooms%...        0       0   \n",
       "3  http://us.imdb.com/M/title-exact?Get%20Shorty%...        0       1   \n",
       "4  http://us.imdb.com/M/title-exact?Copycat%20(1995)        0       0   \n",
       "\n",
       "   Adventure  Animation  Children's  ...  Fantasy  Film-Noir  Horror  Musical  \\\n",
       "0          0          1           1  ...        0          0       0        0   \n",
       "1          1          0           0  ...        0          0       0        0   \n",
       "2          0          0           0  ...        0          0       0        0   \n",
       "3          0          0           0  ...        0          0       0        0   \n",
       "4          0          0           0  ...        0          0       0        0   \n",
       "\n",
       "   Mystery  Romance  Sci-Fi  Thriller  War  Western  \n",
       "0        0        0       0         0    0        0  \n",
       "1        0        0       0         1    0        0  \n",
       "2        0        0       0         1    0        0  \n",
       "3        0        0       0         0    0        0  \n",
       "4        0        0       0         1    0        0  \n",
       "\n",
       "[5 rows x 24 columns]"
      ]
     },
     "execution_count": 13,
     "metadata": {},
     "output_type": "execute_result"
    }
   ],
   "source": [
    "df_items.head()"
   ]
  },
  {
   "cell_type": "code",
   "execution_count": 14,
   "metadata": {
    "scrolled": false
   },
   "outputs": [
    {
     "name": "stdout",
     "output_type": "stream",
     "text": [
      "<class 'pandas.core.frame.DataFrame'>\n",
      "RangeIndex: 1682 entries, 0 to 1681\n",
      "Data columns (total 24 columns):\n",
      "movie id              1682 non-null int64\n",
      "movie title           1682 non-null object\n",
      "release date          1681 non-null object\n",
      "video release date    0 non-null float64\n",
      "IMDb URL              1679 non-null object\n",
      "unknown               1682 non-null int64\n",
      "Action                1682 non-null int64\n",
      "Adventure             1682 non-null int64\n",
      "Animation             1682 non-null int64\n",
      "Children's            1682 non-null int64\n",
      "Comedy                1682 non-null int64\n",
      "Crime                 1682 non-null int64\n",
      "Documentary           1682 non-null int64\n",
      "Drama                 1682 non-null int64\n",
      "Fantasy               1682 non-null int64\n",
      "Film-Noir             1682 non-null int64\n",
      "Horror                1682 non-null int64\n",
      "Musical               1682 non-null int64\n",
      "Mystery               1682 non-null int64\n",
      "Romance               1682 non-null int64\n",
      "Sci-Fi                1682 non-null int64\n",
      "Thriller              1682 non-null int64\n",
      "War                   1682 non-null int64\n",
      "Western               1682 non-null int64\n",
      "dtypes: float64(1), int64(20), object(3)\n",
      "memory usage: 315.5+ KB\n"
     ]
    }
   ],
   "source": [
    "df_items.info()"
   ]
  },
  {
   "cell_type": "code",
   "execution_count": 15,
   "metadata": {},
   "outputs": [],
   "source": [
    "#  drop single item that has no release date\n",
    "\n",
    "df_items.dropna(subset=['release date'], inplace=True)"
   ]
  },
  {
   "cell_type": "code",
   "execution_count": 16,
   "metadata": {},
   "outputs": [
    {
     "name": "stdout",
     "output_type": "stream",
     "text": [
      "<class 'pandas.core.frame.DataFrame'>\n",
      "Int64Index: 1681 entries, 0 to 1681\n",
      "Data columns (total 24 columns):\n",
      "movie id              1681 non-null int64\n",
      "movie title           1681 non-null object\n",
      "release date          1681 non-null object\n",
      "video release date    0 non-null float64\n",
      "IMDb URL              1679 non-null object\n",
      "unknown               1681 non-null int64\n",
      "Action                1681 non-null int64\n",
      "Adventure             1681 non-null int64\n",
      "Animation             1681 non-null int64\n",
      "Children's            1681 non-null int64\n",
      "Comedy                1681 non-null int64\n",
      "Crime                 1681 non-null int64\n",
      "Documentary           1681 non-null int64\n",
      "Drama                 1681 non-null int64\n",
      "Fantasy               1681 non-null int64\n",
      "Film-Noir             1681 non-null int64\n",
      "Horror                1681 non-null int64\n",
      "Musical               1681 non-null int64\n",
      "Mystery               1681 non-null int64\n",
      "Romance               1681 non-null int64\n",
      "Sci-Fi                1681 non-null int64\n",
      "Thriller              1681 non-null int64\n",
      "War                   1681 non-null int64\n",
      "Western               1681 non-null int64\n",
      "dtypes: float64(1), int64(20), object(3)\n",
      "memory usage: 328.3+ KB\n"
     ]
    }
   ],
   "source": [
    "df_items.info()"
   ]
  },
  {
   "cell_type": "code",
   "execution_count": 17,
   "metadata": {},
   "outputs": [],
   "source": [
    "# convert release date to datetime\n",
    "\n",
    "df_items['release date'] = pd.to_datetime(df_items['release date'], format=\"%d-%b-%Y\")"
   ]
  },
  {
   "cell_type": "code",
   "execution_count": 18,
   "metadata": {
    "scrolled": true
   },
   "outputs": [
    {
     "data": {
      "text/html": [
       "<div>\n",
       "<style scoped>\n",
       "    .dataframe tbody tr th:only-of-type {\n",
       "        vertical-align: middle;\n",
       "    }\n",
       "\n",
       "    .dataframe tbody tr th {\n",
       "        vertical-align: top;\n",
       "    }\n",
       "\n",
       "    .dataframe thead th {\n",
       "        text-align: right;\n",
       "    }\n",
       "</style>\n",
       "<table border=\"1\" class=\"dataframe\">\n",
       "  <thead>\n",
       "    <tr style=\"text-align: right;\">\n",
       "      <th></th>\n",
       "      <th>user id</th>\n",
       "      <th>age</th>\n",
       "      <th>gender</th>\n",
       "      <th>occupation</th>\n",
       "      <th>zip code</th>\n",
       "    </tr>\n",
       "  </thead>\n",
       "  <tbody>\n",
       "    <tr>\n",
       "      <td>0</td>\n",
       "      <td>1</td>\n",
       "      <td>24</td>\n",
       "      <td>M</td>\n",
       "      <td>technician</td>\n",
       "      <td>85711</td>\n",
       "    </tr>\n",
       "    <tr>\n",
       "      <td>1</td>\n",
       "      <td>2</td>\n",
       "      <td>53</td>\n",
       "      <td>F</td>\n",
       "      <td>other</td>\n",
       "      <td>94043</td>\n",
       "    </tr>\n",
       "    <tr>\n",
       "      <td>2</td>\n",
       "      <td>3</td>\n",
       "      <td>23</td>\n",
       "      <td>M</td>\n",
       "      <td>writer</td>\n",
       "      <td>32067</td>\n",
       "    </tr>\n",
       "    <tr>\n",
       "      <td>3</td>\n",
       "      <td>4</td>\n",
       "      <td>24</td>\n",
       "      <td>M</td>\n",
       "      <td>technician</td>\n",
       "      <td>43537</td>\n",
       "    </tr>\n",
       "    <tr>\n",
       "      <td>4</td>\n",
       "      <td>5</td>\n",
       "      <td>33</td>\n",
       "      <td>F</td>\n",
       "      <td>other</td>\n",
       "      <td>15213</td>\n",
       "    </tr>\n",
       "  </tbody>\n",
       "</table>\n",
       "</div>"
      ],
      "text/plain": [
       "   user id  age gender  occupation zip code\n",
       "0        1   24      M  technician    85711\n",
       "1        2   53      F       other    94043\n",
       "2        3   23      M      writer    32067\n",
       "3        4   24      M  technician    43537\n",
       "4        5   33      F       other    15213"
      ]
     },
     "execution_count": 18,
     "metadata": {},
     "output_type": "execute_result"
    }
   ],
   "source": [
    "df_users = pd.read_csv('ml-100k/u.user', sep = \"|\",names= ['user id', 'age', 'gender', 'occupation', 'zip code'])\n",
    "df_users.head()"
   ]
  },
  {
   "cell_type": "code",
   "execution_count": 19,
   "metadata": {},
   "outputs": [
    {
     "name": "stdout",
     "output_type": "stream",
     "text": [
      "<class 'pandas.core.frame.DataFrame'>\n",
      "RangeIndex: 943 entries, 0 to 942\n",
      "Data columns (total 5 columns):\n",
      "user id       943 non-null int64\n",
      "age           943 non-null int64\n",
      "gender        943 non-null object\n",
      "occupation    943 non-null object\n",
      "zip code      943 non-null object\n",
      "dtypes: int64(2), object(3)\n",
      "memory usage: 37.0+ KB\n"
     ]
    }
   ],
   "source": [
    "df_users.info()"
   ]
  },
  {
   "cell_type": "markdown",
   "metadata": {},
   "source": [
    "##### 2: Univariate plots (10 marks)"
   ]
  },
  {
   "cell_type": "code",
   "execution_count": 23,
   "metadata": {
    "scrolled": true
   },
   "outputs": [
    {
     "data": {
      "text/plain": [
       "<matplotlib.axes._subplots.AxesSubplot at 0x209057ed608>"
      ]
     },
     "execution_count": 23,
     "metadata": {},
     "output_type": "execute_result"
    },
    {
     "data": {
      "image/png": "[encoded data removed]",
      "text/plain": [
       "<Figure size 432x288 with 1 Axes>"
      ]
     },
     "metadata": {
      "needs_background": "light"
     },
     "output_type": "display_data"
    }
   ],
   "source": [
    "sns.distplot(df_ratings['rating'], kde=False, rug=True)"
   ]
  },
  {
   "cell_type": "code",
   "execution_count": 18,
   "metadata": {
    "scrolled": true
   },
   "outputs": [
    {
     "data": {
      "text/plain": [
       "<matplotlib.axes._subplots.AxesSubplot at 0x24e39d7b508>"
      ]
     },
     "execution_count": 18,
     "metadata": {},
     "output_type": "execute_result"
    },
    {
     "data": {
      "image/png": "[encoded data removed]",
      "text/plain": [
       "<Figure size 432x288 with 1 Axes>"
      ]
     },
     "metadata": {
      "needs_background": "light"
     },
     "output_type": "display_data"
    }
   ],
   "source": [
    "sns.distplot(df_users['age'])"
   ]
  },
  {
   "cell_type": "code",
   "execution_count": 19,
   "metadata": {},
   "outputs": [
    {
     "data": {
      "text/plain": [
       "count                    1681\n",
       "unique                    240\n",
       "top       1995-01-01 00:00:00\n",
       "freq                      215\n",
       "first     1922-01-01 00:00:00\n",
       "last      1998-10-23 00:00:00\n",
       "Name: release date, dtype: object"
      ]
     },
     "execution_count": 19,
     "metadata": {},
     "output_type": "execute_result"
    }
   ],
   "source": [
    "df_items['release date'].describe()"
   ]
  },
  {
   "cell_type": "code",
   "execution_count": 74,
   "metadata": {
    "scrolled": false
   },
   "outputs": [
    {
     "data": {
      "image/png": "[encoded data removed]",
      "text/plain": [
       "<Figure size 720x360 with 1 Axes>"
      ]
     },
     "metadata": {
      "needs_background": "light"
     },
     "output_type": "display_data"
    }
   ],
   "source": [
    "figure, ax = plt.subplots(figsize=(10,5))\n",
    "\n",
    "plt.title('Release date histogram - 1920 to 2000', fontsize=20)\n",
    "ax.set_xlabel('Release date', fontsize=15) \n",
    "ax.hist(df_items['release date'], bins=20, range=['01-Jan-1920', '01-Jan-2000'])\n",
    "\n",
    "plt.show()"
   ]
  },
  {
   "cell_type": "code",
   "execution_count": 21,
   "metadata": {},
   "outputs": [
    {
     "data": {
      "image/png": "[encoded data removed]",
      "text/plain": [
       "<Figure size 720x360 with 1 Axes>"
      ]
     },
     "metadata": {
      "needs_background": "light"
     },
     "output_type": "display_data"
    }
   ],
   "source": [
    "figure, ax = plt.subplots(figsize=(10,5))\n",
    "plt.title('Release date histogram - 1980 to 2000', fontsize=20)\n",
    "ax.set_xlabel('Release date', fontsize=15) \n",
    "ax.hist(df_items['release date'], bins=20, range=['01-Jan-1980', '01-Jan-2000'])\n",
    "\n",
    "plt.show()"
   ]
  },
  {
   "cell_type": "markdown",
   "metadata": {},
   "source": [
    "Note: the data was collected up until 22 April 1998. The number of releases in 1998 is not for a full year, therefor the vaule is low and this year should possibly be omitted if release date is used in an ML model."
   ]
  },
  {
   "cell_type": "code",
   "execution_count": 22,
   "metadata": {
    "scrolled": true
   },
   "outputs": [
    {
     "data": {
      "text/plain": [
       "<matplotlib.axes._subplots.AxesSubplot at 0x24e39fbfa48>"
      ]
     },
     "execution_count": 22,
     "metadata": {},
     "output_type": "execute_result"
    },
    {
     "data": {
      "image/png": "[encoded data removed]",
      "text/plain": [
       "<Figure size 432x288 with 1 Axes>"
      ]
     },
     "metadata": {
      "needs_background": "light"
     },
     "output_type": "display_data"
    }
   ],
   "source": [
    "sns.countplot(df_users['gender'])"
   ]
  },
  {
   "cell_type": "code",
   "execution_count": 23,
   "metadata": {
    "scrolled": false
   },
   "outputs": [
    {
     "data": {
      "text/plain": [
       "[Text(0, 0, 'technician'),\n",
       " Text(0, 0, 'other'),\n",
       " Text(0, 0, 'writer'),\n",
       " Text(0, 0, 'executive'),\n",
       " Text(0, 0, 'administrator'),\n",
       " Text(0, 0, 'student'),\n",
       " Text(0, 0, 'lawyer'),\n",
       " Text(0, 0, 'educator'),\n",
       " Text(0, 0, 'scientist'),\n",
       " Text(0, 0, 'entertainment'),\n",
       " Text(0, 0, 'programmer'),\n",
       " Text(0, 0, 'librarian'),\n",
       " Text(0, 0, 'homemaker'),\n",
       " Text(0, 0, 'artist'),\n",
       " Text(0, 0, 'engineer'),\n",
       " Text(0, 0, 'marketing'),\n",
       " Text(0, 0, 'none'),\n",
       " Text(0, 0, 'healthcare'),\n",
       " Text(0, 0, 'retired'),\n",
       " Text(0, 0, 'salesman'),\n",
       " Text(0, 0, 'doctor')]"
      ]
     },
     "execution_count": 23,
     "metadata": {},
     "output_type": "execute_result"
    },
    {
     "data": {
      "image/png": "[encoded data removed]",
      "text/plain": [
       "<Figure size 720x360 with 1 Axes>"
      ]
     },
     "metadata": {
      "needs_background": "light"
     },
     "output_type": "display_data"
    }
   ],
   "source": [
    "plt.figure(figsize=(10, 5))\n",
    "chart = sns.countplot(df_users['occupation'])\n",
    "chart.set_xticklabels(chart.get_xticklabels(), rotation=60)"
   ]
  },
  {
   "cell_type": "markdown",
   "metadata": {},
   "source": [
    "##### 3: Change in genre popularity (15 marks)\n",
    "\n",
    "Because the number of movies released each year seems to be increasing, the best way to illustrate the way the populatiry is changing would be to make use of relative popularity (i.e. percentage of films in a year from a specific genre), rather than absolute popularity."
   ]
  },
  {
   "cell_type": "code",
   "execution_count": 24,
   "metadata": {},
   "outputs": [],
   "source": [
    "# add column for release year\n",
    "\n",
    "df_items['release year'] = pd.DatetimeIndex(df_items['release date']).year"
   ]
  },
  {
   "cell_type": "code",
   "execution_count": 25,
   "metadata": {
    "scrolled": true
   },
   "outputs": [
    {
     "name": "stdout",
     "output_type": "stream",
     "text": [
      "<class 'pandas.core.frame.DataFrame'>\n",
      "Int64Index: 71 entries, 1922 to 1998\n",
      "Data columns (total 19 columns):\n",
      "unknown        71 non-null int64\n",
      "Action         71 non-null int64\n",
      "Adventure      71 non-null int64\n",
      "Animation      71 non-null int64\n",
      "Children's     71 non-null int64\n",
      "Comedy         71 non-null int64\n",
      "Crime          71 non-null int64\n",
      "Documentary    71 non-null int64\n",
      "Drama          71 non-null int64\n",
      "Fantasy        71 non-null int64\n",
      "Film-Noir      71 non-null int64\n",
      "Horror         71 non-null int64\n",
      "Musical        71 non-null int64\n",
      "Mystery        71 non-null int64\n",
      "Romance        71 non-null int64\n",
      "Sci-Fi         71 non-null int64\n",
      "Thriller       71 non-null int64\n",
      "War            71 non-null int64\n",
      "Western        71 non-null int64\n",
      "dtypes: int64(19)\n",
      "memory usage: 11.1 KB\n"
     ]
    }
   ],
   "source": [
    "# create dataframe of genres by year\n",
    "\n",
    "df_genres_by_year = df_items.groupby(['release year'])[genre_list].apply(lambda x: (x == 1).sum())\n",
    "df_genres_by_year.info()\n"
   ]
  },
  {
   "cell_type": "code",
   "execution_count": 26,
   "metadata": {},
   "outputs": [
    {
     "data": {
      "text/html": [
       "<div>\n",
       "<style scoped>\n",
       "    .dataframe tbody tr th:only-of-type {\n",
       "        vertical-align: middle;\n",
       "    }\n",
       "\n",
       "    .dataframe tbody tr th {\n",
       "        vertical-align: top;\n",
       "    }\n",
       "\n",
       "    .dataframe thead th {\n",
       "        text-align: right;\n",
       "    }\n",
       "</style>\n",
       "<table border=\"1\" class=\"dataframe\">\n",
       "  <thead>\n",
       "    <tr style=\"text-align: right;\">\n",
       "      <th></th>\n",
       "      <th>unknown</th>\n",
       "      <th>Action</th>\n",
       "      <th>Adventure</th>\n",
       "      <th>Animation</th>\n",
       "      <th>Children's</th>\n",
       "      <th>Comedy</th>\n",
       "      <th>Crime</th>\n",
       "      <th>Documentary</th>\n",
       "      <th>Drama</th>\n",
       "      <th>Fantasy</th>\n",
       "      <th>Film-Noir</th>\n",
       "      <th>Horror</th>\n",
       "      <th>Musical</th>\n",
       "      <th>Mystery</th>\n",
       "      <th>Romance</th>\n",
       "      <th>Sci-Fi</th>\n",
       "      <th>Thriller</th>\n",
       "      <th>War</th>\n",
       "      <th>Western</th>\n",
       "    </tr>\n",
       "    <tr>\n",
       "      <th>release year</th>\n",
       "      <th></th>\n",
       "      <th></th>\n",
       "      <th></th>\n",
       "      <th></th>\n",
       "      <th></th>\n",
       "      <th></th>\n",
       "      <th></th>\n",
       "      <th></th>\n",
       "      <th></th>\n",
       "      <th></th>\n",
       "      <th></th>\n",
       "      <th></th>\n",
       "      <th></th>\n",
       "      <th></th>\n",
       "      <th></th>\n",
       "      <th></th>\n",
       "      <th></th>\n",
       "      <th></th>\n",
       "      <th></th>\n",
       "    </tr>\n",
       "  </thead>\n",
       "  <tbody>\n",
       "    <tr>\n",
       "      <td>1922</td>\n",
       "      <td>0</td>\n",
       "      <td>0</td>\n",
       "      <td>0</td>\n",
       "      <td>0</td>\n",
       "      <td>0</td>\n",
       "      <td>0</td>\n",
       "      <td>0</td>\n",
       "      <td>0</td>\n",
       "      <td>0</td>\n",
       "      <td>0</td>\n",
       "      <td>0</td>\n",
       "      <td>1</td>\n",
       "      <td>0</td>\n",
       "      <td>0</td>\n",
       "      <td>0</td>\n",
       "      <td>0</td>\n",
       "      <td>0</td>\n",
       "      <td>0</td>\n",
       "      <td>0</td>\n",
       "    </tr>\n",
       "    <tr>\n",
       "      <td>1926</td>\n",
       "      <td>0</td>\n",
       "      <td>0</td>\n",
       "      <td>0</td>\n",
       "      <td>0</td>\n",
       "      <td>0</td>\n",
       "      <td>0</td>\n",
       "      <td>0</td>\n",
       "      <td>0</td>\n",
       "      <td>1</td>\n",
       "      <td>0</td>\n",
       "      <td>0</td>\n",
       "      <td>0</td>\n",
       "      <td>0</td>\n",
       "      <td>0</td>\n",
       "      <td>0</td>\n",
       "      <td>0</td>\n",
       "      <td>0</td>\n",
       "      <td>0</td>\n",
       "      <td>0</td>\n",
       "    </tr>\n",
       "    <tr>\n",
       "      <td>1930</td>\n",
       "      <td>0</td>\n",
       "      <td>0</td>\n",
       "      <td>0</td>\n",
       "      <td>0</td>\n",
       "      <td>0</td>\n",
       "      <td>0</td>\n",
       "      <td>0</td>\n",
       "      <td>0</td>\n",
       "      <td>1</td>\n",
       "      <td>0</td>\n",
       "      <td>0</td>\n",
       "      <td>0</td>\n",
       "      <td>0</td>\n",
       "      <td>0</td>\n",
       "      <td>0</td>\n",
       "      <td>0</td>\n",
       "      <td>0</td>\n",
       "      <td>0</td>\n",
       "      <td>0</td>\n",
       "    </tr>\n",
       "    <tr>\n",
       "      <td>1931</td>\n",
       "      <td>0</td>\n",
       "      <td>0</td>\n",
       "      <td>0</td>\n",
       "      <td>0</td>\n",
       "      <td>0</td>\n",
       "      <td>0</td>\n",
       "      <td>1</td>\n",
       "      <td>0</td>\n",
       "      <td>0</td>\n",
       "      <td>0</td>\n",
       "      <td>1</td>\n",
       "      <td>0</td>\n",
       "      <td>0</td>\n",
       "      <td>0</td>\n",
       "      <td>0</td>\n",
       "      <td>0</td>\n",
       "      <td>1</td>\n",
       "      <td>0</td>\n",
       "      <td>0</td>\n",
       "    </tr>\n",
       "    <tr>\n",
       "      <td>1932</td>\n",
       "      <td>0</td>\n",
       "      <td>0</td>\n",
       "      <td>0</td>\n",
       "      <td>0</td>\n",
       "      <td>0</td>\n",
       "      <td>0</td>\n",
       "      <td>0</td>\n",
       "      <td>0</td>\n",
       "      <td>0</td>\n",
       "      <td>0</td>\n",
       "      <td>0</td>\n",
       "      <td>0</td>\n",
       "      <td>0</td>\n",
       "      <td>0</td>\n",
       "      <td>1</td>\n",
       "      <td>0</td>\n",
       "      <td>0</td>\n",
       "      <td>1</td>\n",
       "      <td>0</td>\n",
       "    </tr>\n",
       "  </tbody>\n",
       "</table>\n",
       "</div>"
      ],
      "text/plain": [
       "              unknown  Action  Adventure  Animation  Children's  Comedy  \\\n",
       "release year                                                              \n",
       "1922                0       0          0          0           0       0   \n",
       "1926                0       0          0          0           0       0   \n",
       "1930                0       0          0          0           0       0   \n",
       "1931                0       0          0          0           0       0   \n",
       "1932                0       0          0          0           0       0   \n",
       "\n",
       "              Crime  Documentary  Drama  Fantasy  Film-Noir  Horror  Musical  \\\n",
       "release year                                                                   \n",
       "1922              0            0      0        0          0       1        0   \n",
       "1926              0            0      1        0          0       0        0   \n",
       "1930              0            0      1        0          0       0        0   \n",
       "1931              1            0      0        0          1       0        0   \n",
       "1932              0            0      0        0          0       0        0   \n",
       "\n",
       "              Mystery  Romance  Sci-Fi  Thriller  War  Western  \n",
       "release year                                                    \n",
       "1922                0        0       0         0    0        0  \n",
       "1926                0        0       0         0    0        0  \n",
       "1930                0        0       0         0    0        0  \n",
       "1931                0        0       0         1    0        0  \n",
       "1932                0        1       0         0    1        0  "
      ]
     },
     "execution_count": 26,
     "metadata": {},
     "output_type": "execute_result"
    }
   ],
   "source": [
    "df_genres_by_year.head()"
   ]
  },
  {
   "cell_type": "code",
   "execution_count": 27,
   "metadata": {},
   "outputs": [],
   "source": [
    "# add column for total movies for a year. This is needed to calculate the percentage movies released for each genre\n",
    "\n",
    "df_genres_by_year['total movies'] = df_genres_by_year[genre_list].sum(axis=1)"
   ]
  },
  {
   "cell_type": "code",
   "execution_count": 28,
   "metadata": {},
   "outputs": [],
   "source": [
    "df_genres_by_year[genre_list] = df_genres_by_year[genre_list].div(df_genres_by_year['total movies'], axis=0)"
   ]
  },
  {
   "cell_type": "code",
   "execution_count": 29,
   "metadata": {
    "scrolled": false
   },
   "outputs": [
    {
     "name": "stdout",
     "output_type": "stream",
     "text": [
      "              unknown    Action  Adventure  Animation  Children's    Comedy  \\\n",
      "release year                                                                  \n",
      "1922              0.0  0.000000   0.000000   0.000000    0.000000  0.000000   \n",
      "1926              0.0  0.000000   0.000000   0.000000    0.000000  0.000000   \n",
      "1930              0.0  0.000000   0.000000   0.000000    0.000000  0.000000   \n",
      "1931              0.0  0.000000   0.000000   0.000000    0.000000  0.000000   \n",
      "1932              0.0  0.000000   0.000000   0.000000    0.000000  0.000000   \n",
      "...               ...       ...        ...        ...         ...       ...   \n",
      "1994              0.0  0.084986   0.036827   0.011331    0.042493  0.232295   \n",
      "1995              0.0  0.104987   0.057743   0.015748    0.055118  0.165354   \n",
      "1996              0.0  0.078712   0.042934   0.016100    0.037567  0.193202   \n",
      "1997              0.0  0.092742   0.040323   0.006048    0.044355  0.175403   \n",
      "1998              0.0  0.102564   0.025641   0.000000    0.008547  0.111111   \n",
      "\n",
      "                 Crime  Documentary     Drama   Fantasy  Film-Noir    Horror  \\\n",
      "release year                                                                   \n",
      "1922          0.000000     0.000000  0.000000  0.000000   0.000000  1.000000   \n",
      "1926          0.000000     0.000000  1.000000  0.000000   0.000000  0.000000   \n",
      "1930          0.000000     0.000000  1.000000  0.000000   0.000000  0.000000   \n",
      "1931          0.333333     0.000000  0.000000  0.000000   0.333333  0.000000   \n",
      "1932          0.000000     0.000000  0.000000  0.000000   0.000000  0.000000   \n",
      "...                ...          ...       ...       ...        ...       ...   \n",
      "1994          0.022663     0.025496  0.274788  0.008499   0.000000  0.022663   \n",
      "1995          0.028871     0.013123  0.233596  0.007874   0.002625  0.036745   \n",
      "1996          0.037567     0.032200  0.304114  0.010733   0.001789  0.019678   \n",
      "1997          0.060484     0.012097  0.227823  0.008065   0.004032  0.016129   \n",
      "1998          0.059829     0.025641  0.282051  0.008547   0.017094  0.034188   \n",
      "\n",
      "               Musical   Mystery   Romance    Sci-Fi  Thriller       War  \\\n",
      "release year                                                               \n",
      "1922          0.000000  0.000000  0.000000  0.000000  0.000000  0.000000   \n",
      "1926          0.000000  0.000000  0.000000  0.000000  0.000000  0.000000   \n",
      "1930          0.000000  0.000000  0.000000  0.000000  0.000000  0.000000   \n",
      "1931          0.000000  0.000000  0.000000  0.000000  0.333333  0.000000   \n",
      "1932          0.000000  0.000000  0.500000  0.000000  0.000000  0.500000   \n",
      "...                ...       ...       ...       ...       ...       ...   \n",
      "1994          0.005666  0.005666  0.099150  0.019830  0.070822  0.019830   \n",
      "1995          0.007874  0.013123  0.097113  0.039370  0.102362  0.013123   \n",
      "1996          0.016100  0.010733  0.067979  0.026834  0.084079  0.016100   \n",
      "1997          0.010081  0.036290  0.102823  0.026210  0.108871  0.028226   \n",
      "1998          0.008547  0.025641  0.094017  0.042735  0.153846  0.000000   \n",
      "\n",
      "               Western  total movies  \n",
      "release year                          \n",
      "1922          0.000000             1  \n",
      "1926          0.000000             1  \n",
      "1930          0.000000             1  \n",
      "1931          0.000000             3  \n",
      "1932          0.000000             2  \n",
      "...                ...           ...  \n",
      "1994          0.016997           353  \n",
      "1995          0.005249           381  \n",
      "1996          0.003578           559  \n",
      "1997          0.000000           496  \n",
      "1998          0.000000           117  \n",
      "\n",
      "[71 rows x 20 columns]\n"
     ]
    }
   ],
   "source": [
    "print(df_genres_by_year)"
   ]
  },
  {
   "cell_type": "code",
   "execution_count": 30,
   "metadata": {},
   "outputs": [],
   "source": [
    "# drop 'total movies' so heatmap can be plotted\n",
    "\n",
    "df_genres_by_year.drop('total movies', axis=1, inplace=True)"
   ]
  },
  {
   "cell_type": "code",
   "execution_count": 31,
   "metadata": {
    "scrolled": false
   },
   "outputs": [
    {
     "data": {
      "text/plain": [
       "Text(0.5, 159.0, 'Genre')"
      ]
     },
     "execution_count": 31,
     "metadata": {},
     "output_type": "execute_result"
    },
    {
     "data": {
      "image/png": "[encoded data removed]",
      "text/plain": [
       "<Figure size 1080x1440 with 2 Axes>"
      ]
     },
     "metadata": {
      "needs_background": "light"
     },
     "output_type": "display_data"
    }
   ],
   "source": [
    "plt.figure(figsize=(15, 20))\n",
    "\n",
    "ax = sns.heatmap(df_genres_by_year, annot=True, fmt=\".0%\", annot_kws={\"fontsize\":8})\n",
    "bottom, top = ax.get_ylim()\n",
    "\n",
    "ax.set_ylim(bottom + 0.5, top - 0.5)\n",
    "ax.set_xlabel('Genre', fontsize=10)"
   ]
  },
  {
   "cell_type": "markdown",
   "metadata": {},
   "source": [
    "##### 4: Top 25 movies by average rating (10 marks)"
   ]
  },
  {
   "cell_type": "code",
   "execution_count": 32,
   "metadata": {},
   "outputs": [],
   "source": [
    "# calculate the total rating for each movie (sum of ratings)\n",
    "\n",
    "lst_total_rating = df_ratings.groupby(['item id'])['rating'].sum()"
   ]
  },
  {
   "cell_type": "code",
   "execution_count": 33,
   "metadata": {},
   "outputs": [
    {
     "data": {
      "text/html": [
       "<div>\n",
       "<style scoped>\n",
       "    .dataframe tbody tr th:only-of-type {\n",
       "        vertical-align: middle;\n",
       "    }\n",
       "\n",
       "    .dataframe tbody tr th {\n",
       "        vertical-align: top;\n",
       "    }\n",
       "\n",
       "    .dataframe thead th {\n",
       "        text-align: right;\n",
       "    }\n",
       "</style>\n",
       "<table border=\"1\" class=\"dataframe\">\n",
       "  <thead>\n",
       "    <tr style=\"text-align: right;\">\n",
       "      <th></th>\n",
       "      <th>rating</th>\n",
       "    </tr>\n",
       "    <tr>\n",
       "      <th>item id</th>\n",
       "      <th></th>\n",
       "    </tr>\n",
       "  </thead>\n",
       "  <tbody>\n",
       "    <tr>\n",
       "      <td>1</td>\n",
       "      <td>1753</td>\n",
       "    </tr>\n",
       "    <tr>\n",
       "      <td>2</td>\n",
       "      <td>420</td>\n",
       "    </tr>\n",
       "    <tr>\n",
       "      <td>3</td>\n",
       "      <td>273</td>\n",
       "    </tr>\n",
       "    <tr>\n",
       "      <td>4</td>\n",
       "      <td>742</td>\n",
       "    </tr>\n",
       "    <tr>\n",
       "      <td>5</td>\n",
       "      <td>284</td>\n",
       "    </tr>\n",
       "  </tbody>\n",
       "</table>\n",
       "</div>"
      ],
      "text/plain": [
       "         rating\n",
       "item id        \n",
       "1          1753\n",
       "2           420\n",
       "3           273\n",
       "4           742\n",
       "5           284"
      ]
     },
     "execution_count": 33,
     "metadata": {},
     "output_type": "execute_result"
    }
   ],
   "source": [
    "df_rating_per_movie = pd.DataFrame(lst_total_rating)\n",
    "df_rating_per_movie.head()"
   ]
  },
  {
   "cell_type": "code",
   "execution_count": 34,
   "metadata": {},
   "outputs": [
    {
     "data": {
      "text/plain": [
       "item id\n",
       "1    452\n",
       "2    131\n",
       "3     90\n",
       "4    209\n",
       "5     86\n",
       "Name: rating, dtype: int64"
      ]
     },
     "execution_count": 34,
     "metadata": {},
     "output_type": "execute_result"
    }
   ],
   "source": [
    "# calculate the total number of ratings for each movie\n",
    "\n",
    "lst_no_ratings = df_ratings.groupby(['item id'])['rating'].count()\n",
    "\n",
    "lst_no_ratings.head()\n"
   ]
  },
  {
   "cell_type": "code",
   "execution_count": 35,
   "metadata": {},
   "outputs": [],
   "source": [
    "df_rating_per_movie['number of ratings'] = lst_no_ratings"
   ]
  },
  {
   "cell_type": "code",
   "execution_count": 36,
   "metadata": {},
   "outputs": [],
   "source": [
    "# calculate the average rating of each movie\n",
    "\n",
    "df_rating_per_movie['average rating'] = df_rating_per_movie['rating'].div(df_rating_per_movie['number of ratings'], axis=0)"
   ]
  },
  {
   "cell_type": "code",
   "execution_count": 37,
   "metadata": {},
   "outputs": [
    {
     "name": "stdout",
     "output_type": "stream",
     "text": [
      "<class 'pandas.core.frame.DataFrame'>\n",
      "Int64Index: 1682 entries, 1 to 1682\n",
      "Data columns (total 3 columns):\n",
      "rating               1682 non-null int64\n",
      "number of ratings    1682 non-null int64\n",
      "average rating       1682 non-null float64\n",
      "dtypes: float64(1), int64(2)\n",
      "memory usage: 52.6 KB\n"
     ]
    }
   ],
   "source": [
    "df_rating_per_movie.info()"
   ]
  },
  {
   "cell_type": "code",
   "execution_count": 38,
   "metadata": {},
   "outputs": [],
   "source": [
    "# drop movies that have fewer than 100 ratings\n",
    "\n",
    "df_top_movies = df_rating_per_movie.drop(df_rating_per_movie[df_rating_per_movie['number of ratings'] < 100].index)"
   ]
  },
  {
   "cell_type": "code",
   "execution_count": 39,
   "metadata": {
    "scrolled": false
   },
   "outputs": [
    {
     "name": "stdout",
     "output_type": "stream",
     "text": [
      "<class 'pandas.core.frame.DataFrame'>\n",
      "Int64Index: 338 entries, 1 to 1047\n",
      "Data columns (total 3 columns):\n",
      "rating               338 non-null int64\n",
      "number of ratings    338 non-null int64\n",
      "average rating       338 non-null float64\n",
      "dtypes: float64(1), int64(2)\n",
      "memory usage: 10.6 KB\n"
     ]
    }
   ],
   "source": [
    "df_top_movies.info()"
   ]
  },
  {
   "cell_type": "code",
   "execution_count": 40,
   "metadata": {},
   "outputs": [],
   "source": [
    "df_top_movies_sorted = df_top_movies.sort_values(by='average rating',ascending=False)"
   ]
  },
  {
   "cell_type": "code",
   "execution_count": 41,
   "metadata": {},
   "outputs": [],
   "source": [
    "df_top_movies_sorted.reset_index(level=0, inplace=True)"
   ]
  },
  {
   "cell_type": "code",
   "execution_count": 42,
   "metadata": {},
   "outputs": [
    {
     "data": {
      "text/html": [
       "<div>\n",
       "<style scoped>\n",
       "    .dataframe tbody tr th:only-of-type {\n",
       "        vertical-align: middle;\n",
       "    }\n",
       "\n",
       "    .dataframe tbody tr th {\n",
       "        vertical-align: top;\n",
       "    }\n",
       "\n",
       "    .dataframe thead th {\n",
       "        text-align: right;\n",
       "    }\n",
       "</style>\n",
       "<table border=\"1\" class=\"dataframe\">\n",
       "  <thead>\n",
       "    <tr style=\"text-align: right;\">\n",
       "      <th></th>\n",
       "      <th>item id</th>\n",
       "      <th>rating</th>\n",
       "      <th>number of ratings</th>\n",
       "      <th>average rating</th>\n",
       "    </tr>\n",
       "  </thead>\n",
       "  <tbody>\n",
       "    <tr>\n",
       "      <td>0</td>\n",
       "      <td>408</td>\n",
       "      <td>503</td>\n",
       "      <td>112</td>\n",
       "      <td>4.491071</td>\n",
       "    </tr>\n",
       "    <tr>\n",
       "      <td>1</td>\n",
       "      <td>318</td>\n",
       "      <td>1331</td>\n",
       "      <td>298</td>\n",
       "      <td>4.466443</td>\n",
       "    </tr>\n",
       "    <tr>\n",
       "      <td>2</td>\n",
       "      <td>169</td>\n",
       "      <td>527</td>\n",
       "      <td>118</td>\n",
       "      <td>4.466102</td>\n",
       "    </tr>\n",
       "    <tr>\n",
       "      <td>3</td>\n",
       "      <td>483</td>\n",
       "      <td>1083</td>\n",
       "      <td>243</td>\n",
       "      <td>4.456790</td>\n",
       "    </tr>\n",
       "    <tr>\n",
       "      <td>4</td>\n",
       "      <td>64</td>\n",
       "      <td>1258</td>\n",
       "      <td>283</td>\n",
       "      <td>4.445230</td>\n",
       "    </tr>\n",
       "  </tbody>\n",
       "</table>\n",
       "</div>"
      ],
      "text/plain": [
       "   item id  rating  number of ratings  average rating\n",
       "0      408     503                112        4.491071\n",
       "1      318    1331                298        4.466443\n",
       "2      169     527                118        4.466102\n",
       "3      483    1083                243        4.456790\n",
       "4       64    1258                283        4.445230"
      ]
     },
     "execution_count": 42,
     "metadata": {},
     "output_type": "execute_result"
    }
   ],
   "source": [
    "df_top_movies_sorted.head()"
   ]
  },
  {
   "cell_type": "code",
   "execution_count": 43,
   "metadata": {},
   "outputs": [],
   "source": [
    "# merge dataframes to get the movie names. \n",
    "# Create new dataframe for the movies that only contains what we need ('movie id' and 'movie title'),\n",
    "# and rename 'movie id' to 'item id'\n",
    "\n",
    "df_items_red = df_items[['movie id','movie title']]\n",
    "\n",
    "df_items_red = df_items_red.rename({'movie id': 'item id'}, axis=1) \n",
    "\n"
   ]
  },
  {
   "cell_type": "code",
   "execution_count": 44,
   "metadata": {},
   "outputs": [],
   "source": [
    "df_top_movies_sorted_names = df_top_movies_sorted.merge(df_items_red, on='item id', how='left')"
   ]
  },
  {
   "cell_type": "code",
   "execution_count": 45,
   "metadata": {},
   "outputs": [
    {
     "data": {
      "text/html": [
       "<div>\n",
       "<style scoped>\n",
       "    .dataframe tbody tr th:only-of-type {\n",
       "        vertical-align: middle;\n",
       "    }\n",
       "\n",
       "    .dataframe tbody tr th {\n",
       "        vertical-align: top;\n",
       "    }\n",
       "\n",
       "    .dataframe thead th {\n",
       "        text-align: right;\n",
       "    }\n",
       "</style>\n",
       "<table border=\"1\" class=\"dataframe\">\n",
       "  <thead>\n",
       "    <tr style=\"text-align: right;\">\n",
       "      <th></th>\n",
       "      <th>item id</th>\n",
       "      <th>rating</th>\n",
       "      <th>number of ratings</th>\n",
       "      <th>average rating</th>\n",
       "      <th>movie title</th>\n",
       "    </tr>\n",
       "  </thead>\n",
       "  <tbody>\n",
       "    <tr>\n",
       "      <td>0</td>\n",
       "      <td>408</td>\n",
       "      <td>503</td>\n",
       "      <td>112</td>\n",
       "      <td>4.491071</td>\n",
       "      <td>Close Shave, A (1995)</td>\n",
       "    </tr>\n",
       "    <tr>\n",
       "      <td>1</td>\n",
       "      <td>318</td>\n",
       "      <td>1331</td>\n",
       "      <td>298</td>\n",
       "      <td>4.466443</td>\n",
       "      <td>Schindler's List (1993)</td>\n",
       "    </tr>\n",
       "    <tr>\n",
       "      <td>2</td>\n",
       "      <td>169</td>\n",
       "      <td>527</td>\n",
       "      <td>118</td>\n",
       "      <td>4.466102</td>\n",
       "      <td>Wrong Trousers, The (1993)</td>\n",
       "    </tr>\n",
       "    <tr>\n",
       "      <td>3</td>\n",
       "      <td>483</td>\n",
       "      <td>1083</td>\n",
       "      <td>243</td>\n",
       "      <td>4.456790</td>\n",
       "      <td>Casablanca (1942)</td>\n",
       "    </tr>\n",
       "    <tr>\n",
       "      <td>4</td>\n",
       "      <td>64</td>\n",
       "      <td>1258</td>\n",
       "      <td>283</td>\n",
       "      <td>4.445230</td>\n",
       "      <td>Shawshank Redemption, The (1994)</td>\n",
       "    </tr>\n",
       "  </tbody>\n",
       "</table>\n",
       "</div>"
      ],
      "text/plain": [
       "   item id  rating  number of ratings  average rating  \\\n",
       "0      408     503                112        4.491071   \n",
       "1      318    1331                298        4.466443   \n",
       "2      169     527                118        4.466102   \n",
       "3      483    1083                243        4.456790   \n",
       "4       64    1258                283        4.445230   \n",
       "\n",
       "                        movie title  \n",
       "0             Close Shave, A (1995)  \n",
       "1           Schindler's List (1993)  \n",
       "2        Wrong Trousers, The (1993)  \n",
       "3                 Casablanca (1942)  \n",
       "4  Shawshank Redemption, The (1994)  "
      ]
     },
     "execution_count": 45,
     "metadata": {},
     "output_type": "execute_result"
    }
   ],
   "source": [
    "df_top_movies_sorted_names.head()"
   ]
  },
  {
   "cell_type": "code",
   "execution_count": 46,
   "metadata": {},
   "outputs": [],
   "source": [
    "df_top25_movies = df_top_movies_sorted_names.iloc[:25,:]\n"
   ]
  },
  {
   "cell_type": "code",
   "execution_count": 47,
   "metadata": {},
   "outputs": [
    {
     "data": {
      "text/html": [
       "<div>\n",
       "<style scoped>\n",
       "    .dataframe tbody tr th:only-of-type {\n",
       "        vertical-align: middle;\n",
       "    }\n",
       "\n",
       "    .dataframe tbody tr th {\n",
       "        vertical-align: top;\n",
       "    }\n",
       "\n",
       "    .dataframe thead th {\n",
       "        text-align: right;\n",
       "    }\n",
       "</style>\n",
       "<table border=\"1\" class=\"dataframe\">\n",
       "  <thead>\n",
       "    <tr style=\"text-align: right;\">\n",
       "      <th></th>\n",
       "      <th>item id</th>\n",
       "      <th>rating</th>\n",
       "      <th>number of ratings</th>\n",
       "      <th>average rating</th>\n",
       "      <th>movie title</th>\n",
       "    </tr>\n",
       "  </thead>\n",
       "  <tbody>\n",
       "    <tr>\n",
       "      <td>0</td>\n",
       "      <td>408</td>\n",
       "      <td>503</td>\n",
       "      <td>112</td>\n",
       "      <td>4.491071</td>\n",
       "      <td>Close Shave, A (1995)</td>\n",
       "    </tr>\n",
       "    <tr>\n",
       "      <td>1</td>\n",
       "      <td>318</td>\n",
       "      <td>1331</td>\n",
       "      <td>298</td>\n",
       "      <td>4.466443</td>\n",
       "      <td>Schindler's List (1993)</td>\n",
       "    </tr>\n",
       "    <tr>\n",
       "      <td>2</td>\n",
       "      <td>169</td>\n",
       "      <td>527</td>\n",
       "      <td>118</td>\n",
       "      <td>4.466102</td>\n",
       "      <td>Wrong Trousers, The (1993)</td>\n",
       "    </tr>\n",
       "    <tr>\n",
       "      <td>3</td>\n",
       "      <td>483</td>\n",
       "      <td>1083</td>\n",
       "      <td>243</td>\n",
       "      <td>4.456790</td>\n",
       "      <td>Casablanca (1942)</td>\n",
       "    </tr>\n",
       "    <tr>\n",
       "      <td>4</td>\n",
       "      <td>64</td>\n",
       "      <td>1258</td>\n",
       "      <td>283</td>\n",
       "      <td>4.445230</td>\n",
       "      <td>Shawshank Redemption, The (1994)</td>\n",
       "    </tr>\n",
       "    <tr>\n",
       "      <td>5</td>\n",
       "      <td>603</td>\n",
       "      <td>917</td>\n",
       "      <td>209</td>\n",
       "      <td>4.387560</td>\n",
       "      <td>Rear Window (1954)</td>\n",
       "    </tr>\n",
       "    <tr>\n",
       "      <td>6</td>\n",
       "      <td>12</td>\n",
       "      <td>1171</td>\n",
       "      <td>267</td>\n",
       "      <td>4.385768</td>\n",
       "      <td>Usual Suspects, The (1995)</td>\n",
       "    </tr>\n",
       "    <tr>\n",
       "      <td>7</td>\n",
       "      <td>50</td>\n",
       "      <td>2541</td>\n",
       "      <td>583</td>\n",
       "      <td>4.358491</td>\n",
       "      <td>Star Wars (1977)</td>\n",
       "    </tr>\n",
       "    <tr>\n",
       "      <td>8</td>\n",
       "      <td>178</td>\n",
       "      <td>543</td>\n",
       "      <td>125</td>\n",
       "      <td>4.344000</td>\n",
       "      <td>12 Angry Men (1957)</td>\n",
       "    </tr>\n",
       "    <tr>\n",
       "      <td>9</td>\n",
       "      <td>134</td>\n",
       "      <td>850</td>\n",
       "      <td>198</td>\n",
       "      <td>4.292929</td>\n",
       "      <td>Citizen Kane (1941)</td>\n",
       "    </tr>\n",
       "    <tr>\n",
       "      <td>10</td>\n",
       "      <td>427</td>\n",
       "      <td>940</td>\n",
       "      <td>219</td>\n",
       "      <td>4.292237</td>\n",
       "      <td>To Kill a Mockingbird (1962)</td>\n",
       "    </tr>\n",
       "    <tr>\n",
       "      <td>11</td>\n",
       "      <td>357</td>\n",
       "      <td>1133</td>\n",
       "      <td>264</td>\n",
       "      <td>4.291667</td>\n",
       "      <td>One Flew Over the Cuckoo's Nest (1975)</td>\n",
       "    </tr>\n",
       "    <tr>\n",
       "      <td>12</td>\n",
       "      <td>98</td>\n",
       "      <td>1673</td>\n",
       "      <td>390</td>\n",
       "      <td>4.289744</td>\n",
       "      <td>Silence of the Lambs, The (1991)</td>\n",
       "    </tr>\n",
       "    <tr>\n",
       "      <td>13</td>\n",
       "      <td>480</td>\n",
       "      <td>767</td>\n",
       "      <td>179</td>\n",
       "      <td>4.284916</td>\n",
       "      <td>North by Northwest (1959)</td>\n",
       "    </tr>\n",
       "    <tr>\n",
       "      <td>14</td>\n",
       "      <td>127</td>\n",
       "      <td>1769</td>\n",
       "      <td>413</td>\n",
       "      <td>4.283293</td>\n",
       "      <td>Godfather, The (1972)</td>\n",
       "    </tr>\n",
       "    <tr>\n",
       "      <td>15</td>\n",
       "      <td>285</td>\n",
       "      <td>691</td>\n",
       "      <td>162</td>\n",
       "      <td>4.265432</td>\n",
       "      <td>Secrets &amp; Lies (1996)</td>\n",
       "    </tr>\n",
       "    <tr>\n",
       "      <td>16</td>\n",
       "      <td>272</td>\n",
       "      <td>844</td>\n",
       "      <td>198</td>\n",
       "      <td>4.262626</td>\n",
       "      <td>Good Will Hunting (1997)</td>\n",
       "    </tr>\n",
       "    <tr>\n",
       "      <td>17</td>\n",
       "      <td>657</td>\n",
       "      <td>558</td>\n",
       "      <td>131</td>\n",
       "      <td>4.259542</td>\n",
       "      <td>Manchurian Candidate, The (1962)</td>\n",
       "    </tr>\n",
       "    <tr>\n",
       "      <td>18</td>\n",
       "      <td>474</td>\n",
       "      <td>825</td>\n",
       "      <td>194</td>\n",
       "      <td>4.252577</td>\n",
       "      <td>Dr. Strangelove or: How I Learned to Stop Worr...</td>\n",
       "    </tr>\n",
       "    <tr>\n",
       "      <td>19</td>\n",
       "      <td>174</td>\n",
       "      <td>1786</td>\n",
       "      <td>420</td>\n",
       "      <td>4.252381</td>\n",
       "      <td>Raiders of the Lost Ark (1981)</td>\n",
       "    </tr>\n",
       "    <tr>\n",
       "      <td>20</td>\n",
       "      <td>479</td>\n",
       "      <td>761</td>\n",
       "      <td>179</td>\n",
       "      <td>4.251397</td>\n",
       "      <td>Vertigo (1958)</td>\n",
       "    </tr>\n",
       "    <tr>\n",
       "      <td>21</td>\n",
       "      <td>313</td>\n",
       "      <td>1486</td>\n",
       "      <td>350</td>\n",
       "      <td>4.245714</td>\n",
       "      <td>Titanic (1997)</td>\n",
       "    </tr>\n",
       "    <tr>\n",
       "      <td>22</td>\n",
       "      <td>511</td>\n",
       "      <td>732</td>\n",
       "      <td>173</td>\n",
       "      <td>4.231214</td>\n",
       "      <td>Lawrence of Arabia (1962)</td>\n",
       "    </tr>\n",
       "    <tr>\n",
       "      <td>23</td>\n",
       "      <td>484</td>\n",
       "      <td>581</td>\n",
       "      <td>138</td>\n",
       "      <td>4.210145</td>\n",
       "      <td>Maltese Falcon, The (1941)</td>\n",
       "    </tr>\n",
       "    <tr>\n",
       "      <td>24</td>\n",
       "      <td>172</td>\n",
       "      <td>1543</td>\n",
       "      <td>367</td>\n",
       "      <td>4.204360</td>\n",
       "      <td>Empire Strikes Back, The (1980)</td>\n",
       "    </tr>\n",
       "  </tbody>\n",
       "</table>\n",
       "</div>"
      ],
      "text/plain": [
       "    item id  rating  number of ratings  average rating  \\\n",
       "0       408     503                112        4.491071   \n",
       "1       318    1331                298        4.466443   \n",
       "2       169     527                118        4.466102   \n",
       "3       483    1083                243        4.456790   \n",
       "4        64    1258                283        4.445230   \n",
       "5       603     917                209        4.387560   \n",
       "6        12    1171                267        4.385768   \n",
       "7        50    2541                583        4.358491   \n",
       "8       178     543                125        4.344000   \n",
       "9       134     850                198        4.292929   \n",
       "10      427     940                219        4.292237   \n",
       "11      357    1133                264        4.291667   \n",
       "12       98    1673                390        4.289744   \n",
       "13      480     767                179        4.284916   \n",
       "14      127    1769                413        4.283293   \n",
       "15      285     691                162        4.265432   \n",
       "16      272     844                198        4.262626   \n",
       "17      657     558                131        4.259542   \n",
       "18      474     825                194        4.252577   \n",
       "19      174    1786                420        4.252381   \n",
       "20      479     761                179        4.251397   \n",
       "21      313    1486                350        4.245714   \n",
       "22      511     732                173        4.231214   \n",
       "23      484     581                138        4.210145   \n",
       "24      172    1543                367        4.204360   \n",
       "\n",
       "                                          movie title  \n",
       "0                               Close Shave, A (1995)  \n",
       "1                             Schindler's List (1993)  \n",
       "2                          Wrong Trousers, The (1993)  \n",
       "3                                   Casablanca (1942)  \n",
       "4                    Shawshank Redemption, The (1994)  \n",
       "5                                  Rear Window (1954)  \n",
       "6                          Usual Suspects, The (1995)  \n",
       "7                                    Star Wars (1977)  \n",
       "8                                 12 Angry Men (1957)  \n",
       "9                                 Citizen Kane (1941)  \n",
       "10                       To Kill a Mockingbird (1962)  \n",
       "11             One Flew Over the Cuckoo's Nest (1975)  \n",
       "12                   Silence of the Lambs, The (1991)  \n",
       "13                          North by Northwest (1959)  \n",
       "14                              Godfather, The (1972)  \n",
       "15                              Secrets & Lies (1996)  \n",
       "16                           Good Will Hunting (1997)  \n",
       "17                   Manchurian Candidate, The (1962)  \n",
       "18  Dr. Strangelove or: How I Learned to Stop Worr...  \n",
       "19                     Raiders of the Lost Ark (1981)  \n",
       "20                                     Vertigo (1958)  \n",
       "21                                     Titanic (1997)  \n",
       "22                          Lawrence of Arabia (1962)  \n",
       "23                         Maltese Falcon, The (1941)  \n",
       "24                    Empire Strikes Back, The (1980)  "
      ]
     },
     "execution_count": 47,
     "metadata": {},
     "output_type": "execute_result"
    }
   ],
   "source": [
    "df_top25_movies.head(25)"
   ]
  },
  {
   "cell_type": "code",
   "execution_count": 48,
   "metadata": {},
   "outputs": [],
   "source": [
    "# drop columns that are not needed for final list\n",
    "\n",
    "df_top25_movies_red = df_top25_movies.copy()\n",
    "df_top25_movies_red.drop(['item id','rating','number of ratings'],axis=1,inplace=True)"
   ]
  },
  {
   "cell_type": "code",
   "execution_count": 49,
   "metadata": {
    "scrolled": false
   },
   "outputs": [
    {
     "data": {
      "text/html": [
       "<div>\n",
       "<style scoped>\n",
       "    .dataframe tbody tr th:only-of-type {\n",
       "        vertical-align: middle;\n",
       "    }\n",
       "\n",
       "    .dataframe tbody tr th {\n",
       "        vertical-align: top;\n",
       "    }\n",
       "\n",
       "    .dataframe thead th {\n",
       "        text-align: right;\n",
       "    }\n",
       "</style>\n",
       "<table border=\"1\" class=\"dataframe\">\n",
       "  <thead>\n",
       "    <tr style=\"text-align: right;\">\n",
       "      <th></th>\n",
       "      <th>average rating</th>\n",
       "      <th>movie title</th>\n",
       "    </tr>\n",
       "  </thead>\n",
       "  <tbody>\n",
       "    <tr>\n",
       "      <td>0</td>\n",
       "      <td>4.491071</td>\n",
       "      <td>Close Shave, A (1995)</td>\n",
       "    </tr>\n",
       "    <tr>\n",
       "      <td>1</td>\n",
       "      <td>4.466443</td>\n",
       "      <td>Schindler's List (1993)</td>\n",
       "    </tr>\n",
       "    <tr>\n",
       "      <td>2</td>\n",
       "      <td>4.466102</td>\n",
       "      <td>Wrong Trousers, The (1993)</td>\n",
       "    </tr>\n",
       "    <tr>\n",
       "      <td>3</td>\n",
       "      <td>4.456790</td>\n",
       "      <td>Casablanca (1942)</td>\n",
       "    </tr>\n",
       "    <tr>\n",
       "      <td>4</td>\n",
       "      <td>4.445230</td>\n",
       "      <td>Shawshank Redemption, The (1994)</td>\n",
       "    </tr>\n",
       "    <tr>\n",
       "      <td>5</td>\n",
       "      <td>4.387560</td>\n",
       "      <td>Rear Window (1954)</td>\n",
       "    </tr>\n",
       "    <tr>\n",
       "      <td>6</td>\n",
       "      <td>4.385768</td>\n",
       "      <td>Usual Suspects, The (1995)</td>\n",
       "    </tr>\n",
       "    <tr>\n",
       "      <td>7</td>\n",
       "      <td>4.358491</td>\n",
       "      <td>Star Wars (1977)</td>\n",
       "    </tr>\n",
       "    <tr>\n",
       "      <td>8</td>\n",
       "      <td>4.344000</td>\n",
       "      <td>12 Angry Men (1957)</td>\n",
       "    </tr>\n",
       "    <tr>\n",
       "      <td>9</td>\n",
       "      <td>4.292929</td>\n",
       "      <td>Citizen Kane (1941)</td>\n",
       "    </tr>\n",
       "    <tr>\n",
       "      <td>10</td>\n",
       "      <td>4.292237</td>\n",
       "      <td>To Kill a Mockingbird (1962)</td>\n",
       "    </tr>\n",
       "    <tr>\n",
       "      <td>11</td>\n",
       "      <td>4.291667</td>\n",
       "      <td>One Flew Over the Cuckoo's Nest (1975)</td>\n",
       "    </tr>\n",
       "    <tr>\n",
       "      <td>12</td>\n",
       "      <td>4.289744</td>\n",
       "      <td>Silence of the Lambs, The (1991)</td>\n",
       "    </tr>\n",
       "    <tr>\n",
       "      <td>13</td>\n",
       "      <td>4.284916</td>\n",
       "      <td>North by Northwest (1959)</td>\n",
       "    </tr>\n",
       "    <tr>\n",
       "      <td>14</td>\n",
       "      <td>4.283293</td>\n",
       "      <td>Godfather, The (1972)</td>\n",
       "    </tr>\n",
       "    <tr>\n",
       "      <td>15</td>\n",
       "      <td>4.265432</td>\n",
       "      <td>Secrets &amp; Lies (1996)</td>\n",
       "    </tr>\n",
       "    <tr>\n",
       "      <td>16</td>\n",
       "      <td>4.262626</td>\n",
       "      <td>Good Will Hunting (1997)</td>\n",
       "    </tr>\n",
       "    <tr>\n",
       "      <td>17</td>\n",
       "      <td>4.259542</td>\n",
       "      <td>Manchurian Candidate, The (1962)</td>\n",
       "    </tr>\n",
       "    <tr>\n",
       "      <td>18</td>\n",
       "      <td>4.252577</td>\n",
       "      <td>Dr. Strangelove or: How I Learned to Stop Worr...</td>\n",
       "    </tr>\n",
       "    <tr>\n",
       "      <td>19</td>\n",
       "      <td>4.252381</td>\n",
       "      <td>Raiders of the Lost Ark (1981)</td>\n",
       "    </tr>\n",
       "    <tr>\n",
       "      <td>20</td>\n",
       "      <td>4.251397</td>\n",
       "      <td>Vertigo (1958)</td>\n",
       "    </tr>\n",
       "    <tr>\n",
       "      <td>21</td>\n",
       "      <td>4.245714</td>\n",
       "      <td>Titanic (1997)</td>\n",
       "    </tr>\n",
       "    <tr>\n",
       "      <td>22</td>\n",
       "      <td>4.231214</td>\n",
       "      <td>Lawrence of Arabia (1962)</td>\n",
       "    </tr>\n",
       "    <tr>\n",
       "      <td>23</td>\n",
       "      <td>4.210145</td>\n",
       "      <td>Maltese Falcon, The (1941)</td>\n",
       "    </tr>\n",
       "    <tr>\n",
       "      <td>24</td>\n",
       "      <td>4.204360</td>\n",
       "      <td>Empire Strikes Back, The (1980)</td>\n",
       "    </tr>\n",
       "  </tbody>\n",
       "</table>\n",
       "</div>"
      ],
      "text/plain": [
       "    average rating                                        movie title\n",
       "0         4.491071                              Close Shave, A (1995)\n",
       "1         4.466443                            Schindler's List (1993)\n",
       "2         4.466102                         Wrong Trousers, The (1993)\n",
       "3         4.456790                                  Casablanca (1942)\n",
       "4         4.445230                   Shawshank Redemption, The (1994)\n",
       "5         4.387560                                 Rear Window (1954)\n",
       "6         4.385768                         Usual Suspects, The (1995)\n",
       "7         4.358491                                   Star Wars (1977)\n",
       "8         4.344000                                12 Angry Men (1957)\n",
       "9         4.292929                                Citizen Kane (1941)\n",
       "10        4.292237                       To Kill a Mockingbird (1962)\n",
       "11        4.291667             One Flew Over the Cuckoo's Nest (1975)\n",
       "12        4.289744                   Silence of the Lambs, The (1991)\n",
       "13        4.284916                          North by Northwest (1959)\n",
       "14        4.283293                              Godfather, The (1972)\n",
       "15        4.265432                              Secrets & Lies (1996)\n",
       "16        4.262626                           Good Will Hunting (1997)\n",
       "17        4.259542                   Manchurian Candidate, The (1962)\n",
       "18        4.252577  Dr. Strangelove or: How I Learned to Stop Worr...\n",
       "19        4.252381                     Raiders of the Lost Ark (1981)\n",
       "20        4.251397                                     Vertigo (1958)\n",
       "21        4.245714                                     Titanic (1997)\n",
       "22        4.231214                          Lawrence of Arabia (1962)\n",
       "23        4.210145                         Maltese Falcon, The (1941)\n",
       "24        4.204360                    Empire Strikes Back, The (1980)"
      ]
     },
     "execution_count": 49,
     "metadata": {},
     "output_type": "execute_result"
    }
   ],
   "source": [
    "df_top25_movies_red.head(25)"
   ]
  },
  {
   "cell_type": "markdown",
   "metadata": {},
   "source": [
    "##### 5: Statement validity (15 marks)\n",
    "\n",
    "Due to the fact that there are in general more men rating movies than women (could be seen in univariate plots, and total number of male and female ratings will be checked), the number of ratings for men and women can be normalised with the total ratings by men and women respectivly (i.e. percentage of total). This will give a more realistic answer to the question of relative preference for different genres.\n",
    "\n",
    "Note: in this section, the assumption is made that in the dataset we are using, there are no occurance of raters having watched a movie but not rated it. If this were the case we could not state that men or women watch more movies of a particular genre based on number of ratings."
   ]
  },
  {
   "cell_type": "code",
   "execution_count": 26,
   "metadata": {},
   "outputs": [],
   "source": [
    "# merge ratings and user to include gender in ratings\n",
    "\n",
    "df_ratings_gen = df_ratings.merge(df_users, on='user id', how='left')"
   ]
  },
  {
   "cell_type": "code",
   "execution_count": 27,
   "metadata": {},
   "outputs": [
    {
     "data": {
      "text/plain": [
       "<bound method DataFrame.info of        user id  item id  rating  timestamp  age gender     occupation zip code\n",
       "0          196      242       3  881250949   49      M         writer    55105\n",
       "1          186      302       3  891717742   39      F      executive    00000\n",
       "2           22      377       1  878887116   25      M         writer    40206\n",
       "3          244       51       2  880606923   28      M     technician    80525\n",
       "4          166      346       1  886397596   47      M       educator    55113\n",
       "...        ...      ...     ...        ...  ...    ...            ...      ...\n",
       "99995      880      476       3  880175444   13      M        student    83702\n",
       "99996      716      204       5  879795543   36      F  administrator    44265\n",
       "99997      276     1090       1  874795795   21      M        student    95064\n",
       "99998       13      225       2  882399156   47      M       educator    29206\n",
       "99999       12      203       3  879959583   28      F          other    06405\n",
       "\n",
       "[100000 rows x 8 columns]>"
      ]
     },
     "execution_count": 27,
     "metadata": {},
     "output_type": "execute_result"
    }
   ],
   "source": [
    "df_ratings_gen.info\n"
   ]
  },
  {
   "cell_type": "code",
   "execution_count": 52,
   "metadata": {},
   "outputs": [
    {
     "data": {
      "text/plain": [
       "2"
      ]
     },
     "execution_count": 52,
     "metadata": {},
     "output_type": "execute_result"
    }
   ],
   "source": [
    "# check if there are any items that have no gender listed (test passed if only two)\n",
    "\n",
    "df_ratings_gen['gender'].nunique()"
   ]
  },
  {
   "cell_type": "code",
   "execution_count": 28,
   "metadata": {},
   "outputs": [],
   "source": [
    "lst_no_male_ratings = df_ratings_gen.groupby(['item id'])['gender'].apply(lambda x: (x == 'M').sum())\n",
    "lst_no_female_ratings = df_ratings_gen.groupby(['item id'])['gender'].apply(lambda x: (x == 'F').sum())\n"
   ]
  },
  {
   "cell_type": "code",
   "execution_count": 29,
   "metadata": {},
   "outputs": [
    {
     "name": "stdout",
     "output_type": "stream",
     "text": [
      "item id\n",
      "1       333\n",
      "2       112\n",
      "3        74\n",
      "4       164\n",
      "5        64\n",
      "       ... \n",
      "1678      1\n",
      "1679      1\n",
      "1680      1\n",
      "1681      1\n",
      "1682      1\n",
      "Name: gender, Length: 1682, dtype: int64\n"
     ]
    }
   ],
   "source": [
    "print(lst_no_male_ratings)"
   ]
  },
  {
   "cell_type": "code",
   "execution_count": 55,
   "metadata": {},
   "outputs": [],
   "source": [
    "df_rating_per_movie = pd.DataFrame()"
   ]
  },
  {
   "cell_type": "code",
   "execution_count": 56,
   "metadata": {},
   "outputs": [],
   "source": [
    "df_rating_per_movie['male ratings'] = lst_no_male_ratings\n",
    "df_rating_per_movie['female ratings'] = lst_no_female_ratings"
   ]
  },
  {
   "cell_type": "code",
   "execution_count": 57,
   "metadata": {},
   "outputs": [],
   "source": [
    "df_rating_per_movie.reset_index(level=0, inplace=True)"
   ]
  },
  {
   "cell_type": "code",
   "execution_count": 58,
   "metadata": {},
   "outputs": [],
   "source": [
    "df_rating_per_movie = df_rating_per_movie.rename({'item id': 'movie id'}, axis=1) "
   ]
  },
  {
   "cell_type": "code",
   "execution_count": 59,
   "metadata": {
    "scrolled": true
   },
   "outputs": [
    {
     "data": {
      "text/html": [
       "<div>\n",
       "<style scoped>\n",
       "    .dataframe tbody tr th:only-of-type {\n",
       "        vertical-align: middle;\n",
       "    }\n",
       "\n",
       "    .dataframe tbody tr th {\n",
       "        vertical-align: top;\n",
       "    }\n",
       "\n",
       "    .dataframe thead th {\n",
       "        text-align: right;\n",
       "    }\n",
       "</style>\n",
       "<table border=\"1\" class=\"dataframe\">\n",
       "  <thead>\n",
       "    <tr style=\"text-align: right;\">\n",
       "      <th></th>\n",
       "      <th>movie id</th>\n",
       "      <th>male ratings</th>\n",
       "      <th>female ratings</th>\n",
       "    </tr>\n",
       "  </thead>\n",
       "  <tbody>\n",
       "    <tr>\n",
       "      <td>0</td>\n",
       "      <td>1</td>\n",
       "      <td>333</td>\n",
       "      <td>119</td>\n",
       "    </tr>\n",
       "    <tr>\n",
       "      <td>1</td>\n",
       "      <td>2</td>\n",
       "      <td>112</td>\n",
       "      <td>19</td>\n",
       "    </tr>\n",
       "    <tr>\n",
       "      <td>2</td>\n",
       "      <td>3</td>\n",
       "      <td>74</td>\n",
       "      <td>16</td>\n",
       "    </tr>\n",
       "    <tr>\n",
       "      <td>3</td>\n",
       "      <td>4</td>\n",
       "      <td>164</td>\n",
       "      <td>45</td>\n",
       "    </tr>\n",
       "    <tr>\n",
       "      <td>4</td>\n",
       "      <td>5</td>\n",
       "      <td>64</td>\n",
       "      <td>22</td>\n",
       "    </tr>\n",
       "  </tbody>\n",
       "</table>\n",
       "</div>"
      ],
      "text/plain": [
       "   movie id  male ratings  female ratings\n",
       "0         1           333             119\n",
       "1         2           112              19\n",
       "2         3            74              16\n",
       "3         4           164              45\n",
       "4         5            64              22"
      ]
     },
     "execution_count": 59,
     "metadata": {},
     "output_type": "execute_result"
    }
   ],
   "source": [
    "df_rating_per_movie.head()"
   ]
  },
  {
   "cell_type": "code",
   "execution_count": 60,
   "metadata": {},
   "outputs": [],
   "source": [
    "# calculate the total number of male and female ratings for use in normalisation, \n",
    "# and verify if there are more men than women rating movies\n",
    "\n",
    "total_male_ratings = df_rating_per_movie['male ratings'].sum()\n",
    "total_female_ratings = df_rating_per_movie['female ratings'].sum()"
   ]
  },
  {
   "cell_type": "code",
   "execution_count": 61,
   "metadata": {},
   "outputs": [
    {
     "name": "stdout",
     "output_type": "stream",
     "text": [
      "74260\n"
     ]
    }
   ],
   "source": [
    "print(total_male_ratings)"
   ]
  },
  {
   "cell_type": "code",
   "execution_count": 62,
   "metadata": {},
   "outputs": [
    {
     "name": "stdout",
     "output_type": "stream",
     "text": [
      "25740\n"
     ]
    }
   ],
   "source": [
    "print(total_female_ratings)"
   ]
  },
  {
   "cell_type": "code",
   "execution_count": 63,
   "metadata": {},
   "outputs": [],
   "source": [
    "df_items_gen = df_items.merge(df_rating_per_movie, on='movie id', how='left')"
   ]
  },
  {
   "cell_type": "code",
   "execution_count": 64,
   "metadata": {
    "scrolled": true
   },
   "outputs": [
    {
     "data": {
      "text/html": [
       "<div>\n",
       "<style scoped>\n",
       "    .dataframe tbody tr th:only-of-type {\n",
       "        vertical-align: middle;\n",
       "    }\n",
       "\n",
       "    .dataframe tbody tr th {\n",
       "        vertical-align: top;\n",
       "    }\n",
       "\n",
       "    .dataframe thead th {\n",
       "        text-align: right;\n",
       "    }\n",
       "</style>\n",
       "<table border=\"1\" class=\"dataframe\">\n",
       "  <thead>\n",
       "    <tr style=\"text-align: right;\">\n",
       "      <th></th>\n",
       "      <th>movie id</th>\n",
       "      <th>movie title</th>\n",
       "      <th>release date</th>\n",
       "      <th>video release date</th>\n",
       "      <th>IMDb URL</th>\n",
       "      <th>unknown</th>\n",
       "      <th>Action</th>\n",
       "      <th>Adventure</th>\n",
       "      <th>Animation</th>\n",
       "      <th>Children's</th>\n",
       "      <th>...</th>\n",
       "      <th>Musical</th>\n",
       "      <th>Mystery</th>\n",
       "      <th>Romance</th>\n",
       "      <th>Sci-Fi</th>\n",
       "      <th>Thriller</th>\n",
       "      <th>War</th>\n",
       "      <th>Western</th>\n",
       "      <th>release year</th>\n",
       "      <th>male ratings</th>\n",
       "      <th>female ratings</th>\n",
       "    </tr>\n",
       "  </thead>\n",
       "  <tbody>\n",
       "    <tr>\n",
       "      <td>0</td>\n",
       "      <td>1</td>\n",
       "      <td>Toy Story (1995)</td>\n",
       "      <td>1995-01-01</td>\n",
       "      <td>NaN</td>\n",
       "      <td>http://us.imdb.com/M/title-exact?Toy%20Story%2...</td>\n",
       "      <td>0</td>\n",
       "      <td>0</td>\n",
       "      <td>0</td>\n",
       "      <td>1</td>\n",
       "      <td>1</td>\n",
       "      <td>...</td>\n",
       "      <td>0</td>\n",
       "      <td>0</td>\n",
       "      <td>0</td>\n",
       "      <td>0</td>\n",
       "      <td>0</td>\n",
       "      <td>0</td>\n",
       "      <td>0</td>\n",
       "      <td>1995</td>\n",
       "      <td>333</td>\n",
       "      <td>119</td>\n",
       "    </tr>\n",
       "    <tr>\n",
       "      <td>1</td>\n",
       "      <td>2</td>\n",
       "      <td>GoldenEye (1995)</td>\n",
       "      <td>1995-01-01</td>\n",
       "      <td>NaN</td>\n",
       "      <td>http://us.imdb.com/M/title-exact?GoldenEye%20(...</td>\n",
       "      <td>0</td>\n",
       "      <td>1</td>\n",
       "      <td>1</td>\n",
       "      <td>0</td>\n",
       "      <td>0</td>\n",
       "      <td>...</td>\n",
       "      <td>0</td>\n",
       "      <td>0</td>\n",
       "      <td>0</td>\n",
       "      <td>0</td>\n",
       "      <td>1</td>\n",
       "      <td>0</td>\n",
       "      <td>0</td>\n",
       "      <td>1995</td>\n",
       "      <td>112</td>\n",
       "      <td>19</td>\n",
       "    </tr>\n",
       "    <tr>\n",
       "      <td>2</td>\n",
       "      <td>3</td>\n",
       "      <td>Four Rooms (1995)</td>\n",
       "      <td>1995-01-01</td>\n",
       "      <td>NaN</td>\n",
       "      <td>http://us.imdb.com/M/title-exact?Four%20Rooms%...</td>\n",
       "      <td>0</td>\n",
       "      <td>0</td>\n",
       "      <td>0</td>\n",
       "      <td>0</td>\n",
       "      <td>0</td>\n",
       "      <td>...</td>\n",
       "      <td>0</td>\n",
       "      <td>0</td>\n",
       "      <td>0</td>\n",
       "      <td>0</td>\n",
       "      <td>1</td>\n",
       "      <td>0</td>\n",
       "      <td>0</td>\n",
       "      <td>1995</td>\n",
       "      <td>74</td>\n",
       "      <td>16</td>\n",
       "    </tr>\n",
       "    <tr>\n",
       "      <td>3</td>\n",
       "      <td>4</td>\n",
       "      <td>Get Shorty (1995)</td>\n",
       "      <td>1995-01-01</td>\n",
       "      <td>NaN</td>\n",
       "      <td>http://us.imdb.com/M/title-exact?Get%20Shorty%...</td>\n",
       "      <td>0</td>\n",
       "      <td>1</td>\n",
       "      <td>0</td>\n",
       "      <td>0</td>\n",
       "      <td>0</td>\n",
       "      <td>...</td>\n",
       "      <td>0</td>\n",
       "      <td>0</td>\n",
       "      <td>0</td>\n",
       "      <td>0</td>\n",
       "      <td>0</td>\n",
       "      <td>0</td>\n",
       "      <td>0</td>\n",
       "      <td>1995</td>\n",
       "      <td>164</td>\n",
       "      <td>45</td>\n",
       "    </tr>\n",
       "    <tr>\n",
       "      <td>4</td>\n",
       "      <td>5</td>\n",
       "      <td>Copycat (1995)</td>\n",
       "      <td>1995-01-01</td>\n",
       "      <td>NaN</td>\n",
       "      <td>http://us.imdb.com/M/title-exact?Copycat%20(1995)</td>\n",
       "      <td>0</td>\n",
       "      <td>0</td>\n",
       "      <td>0</td>\n",
       "      <td>0</td>\n",
       "      <td>0</td>\n",
       "      <td>...</td>\n",
       "      <td>0</td>\n",
       "      <td>0</td>\n",
       "      <td>0</td>\n",
       "      <td>0</td>\n",
       "      <td>1</td>\n",
       "      <td>0</td>\n",
       "      <td>0</td>\n",
       "      <td>1995</td>\n",
       "      <td>64</td>\n",
       "      <td>22</td>\n",
       "    </tr>\n",
       "  </tbody>\n",
       "</table>\n",
       "<p>5 rows × 27 columns</p>\n",
       "</div>"
      ],
      "text/plain": [
       "   movie id        movie title release date  video release date  \\\n",
       "0         1   Toy Story (1995)   1995-01-01                 NaN   \n",
       "1         2   GoldenEye (1995)   1995-01-01                 NaN   \n",
       "2         3  Four Rooms (1995)   1995-01-01                 NaN   \n",
       "3         4  Get Shorty (1995)   1995-01-01                 NaN   \n",
       "4         5     Copycat (1995)   1995-01-01                 NaN   \n",
       "\n",
       "                                            IMDb URL  unknown  Action  \\\n",
       "0  http://us.imdb.com/M/title-exact?Toy%20Story%2...        0       0   \n",
       "1  http://us.imdb.com/M/title-exact?GoldenEye%20(...        0       1   \n",
       "2  http://us.imdb.com/M/title-exact?Four%20Rooms%...        0       0   \n",
       "3  http://us.imdb.com/M/title-exact?Get%20Shorty%...        0       1   \n",
       "4  http://us.imdb.com/M/title-exact?Copycat%20(1995)        0       0   \n",
       "\n",
       "   Adventure  Animation  Children's  ...  Musical  Mystery  Romance  Sci-Fi  \\\n",
       "0          0          1           1  ...        0        0        0       0   \n",
       "1          1          0           0  ...        0        0        0       0   \n",
       "2          0          0           0  ...        0        0        0       0   \n",
       "3          0          0           0  ...        0        0        0       0   \n",
       "4          0          0           0  ...        0        0        0       0   \n",
       "\n",
       "   Thriller  War  Western  release year  male ratings  female ratings  \n",
       "0         0    0        0          1995           333             119  \n",
       "1         1    0        0          1995           112              19  \n",
       "2         1    0        0          1995            74              16  \n",
       "3         0    0        0          1995           164              45  \n",
       "4         1    0        0          1995            64              22  \n",
       "\n",
       "[5 rows x 27 columns]"
      ]
     },
     "execution_count": 64,
     "metadata": {},
     "output_type": "execute_result"
    }
   ],
   "source": [
    "df_items_gen.head()"
   ]
  },
  {
   "cell_type": "code",
   "execution_count": 65,
   "metadata": {},
   "outputs": [],
   "source": [
    "df_items_gen['male ratings normalised'] = df_items_gen['male ratings']/total_male_ratings"
   ]
  },
  {
   "cell_type": "code",
   "execution_count": 66,
   "metadata": {},
   "outputs": [],
   "source": [
    "df_items_gen['female ratings normalised'] = df_items_gen['female ratings']/total_female_ratings"
   ]
  },
  {
   "cell_type": "code",
   "execution_count": 67,
   "metadata": {
    "scrolled": true
   },
   "outputs": [
    {
     "data": {
      "text/html": [
       "<div>\n",
       "<style scoped>\n",
       "    .dataframe tbody tr th:only-of-type {\n",
       "        vertical-align: middle;\n",
       "    }\n",
       "\n",
       "    .dataframe tbody tr th {\n",
       "        vertical-align: top;\n",
       "    }\n",
       "\n",
       "    .dataframe thead th {\n",
       "        text-align: right;\n",
       "    }\n",
       "</style>\n",
       "<table border=\"1\" class=\"dataframe\">\n",
       "  <thead>\n",
       "    <tr style=\"text-align: right;\">\n",
       "      <th></th>\n",
       "      <th>movie id</th>\n",
       "      <th>movie title</th>\n",
       "      <th>release date</th>\n",
       "      <th>video release date</th>\n",
       "      <th>IMDb URL</th>\n",
       "      <th>unknown</th>\n",
       "      <th>Action</th>\n",
       "      <th>Adventure</th>\n",
       "      <th>Animation</th>\n",
       "      <th>Children's</th>\n",
       "      <th>...</th>\n",
       "      <th>Romance</th>\n",
       "      <th>Sci-Fi</th>\n",
       "      <th>Thriller</th>\n",
       "      <th>War</th>\n",
       "      <th>Western</th>\n",
       "      <th>release year</th>\n",
       "      <th>male ratings</th>\n",
       "      <th>female ratings</th>\n",
       "      <th>male ratings normalised</th>\n",
       "      <th>female ratings normalised</th>\n",
       "    </tr>\n",
       "  </thead>\n",
       "  <tbody>\n",
       "    <tr>\n",
       "      <td>0</td>\n",
       "      <td>1</td>\n",
       "      <td>Toy Story (1995)</td>\n",
       "      <td>1995-01-01</td>\n",
       "      <td>NaN</td>\n",
       "      <td>http://us.imdb.com/M/title-exact?Toy%20Story%2...</td>\n",
       "      <td>0</td>\n",
       "      <td>0</td>\n",
       "      <td>0</td>\n",
       "      <td>1</td>\n",
       "      <td>1</td>\n",
       "      <td>...</td>\n",
       "      <td>0</td>\n",
       "      <td>0</td>\n",
       "      <td>0</td>\n",
       "      <td>0</td>\n",
       "      <td>0</td>\n",
       "      <td>1995</td>\n",
       "      <td>333</td>\n",
       "      <td>119</td>\n",
       "      <td>0.004484</td>\n",
       "      <td>0.004623</td>\n",
       "    </tr>\n",
       "    <tr>\n",
       "      <td>1</td>\n",
       "      <td>2</td>\n",
       "      <td>GoldenEye (1995)</td>\n",
       "      <td>1995-01-01</td>\n",
       "      <td>NaN</td>\n",
       "      <td>http://us.imdb.com/M/title-exact?GoldenEye%20(...</td>\n",
       "      <td>0</td>\n",
       "      <td>1</td>\n",
       "      <td>1</td>\n",
       "      <td>0</td>\n",
       "      <td>0</td>\n",
       "      <td>...</td>\n",
       "      <td>0</td>\n",
       "      <td>0</td>\n",
       "      <td>1</td>\n",
       "      <td>0</td>\n",
       "      <td>0</td>\n",
       "      <td>1995</td>\n",
       "      <td>112</td>\n",
       "      <td>19</td>\n",
       "      <td>0.001508</td>\n",
       "      <td>0.000738</td>\n",
       "    </tr>\n",
       "    <tr>\n",
       "      <td>2</td>\n",
       "      <td>3</td>\n",
       "      <td>Four Rooms (1995)</td>\n",
       "      <td>1995-01-01</td>\n",
       "      <td>NaN</td>\n",
       "      <td>http://us.imdb.com/M/title-exact?Four%20Rooms%...</td>\n",
       "      <td>0</td>\n",
       "      <td>0</td>\n",
       "      <td>0</td>\n",
       "      <td>0</td>\n",
       "      <td>0</td>\n",
       "      <td>...</td>\n",
       "      <td>0</td>\n",
       "      <td>0</td>\n",
       "      <td>1</td>\n",
       "      <td>0</td>\n",
       "      <td>0</td>\n",
       "      <td>1995</td>\n",
       "      <td>74</td>\n",
       "      <td>16</td>\n",
       "      <td>0.000996</td>\n",
       "      <td>0.000622</td>\n",
       "    </tr>\n",
       "    <tr>\n",
       "      <td>3</td>\n",
       "      <td>4</td>\n",
       "      <td>Get Shorty (1995)</td>\n",
       "      <td>1995-01-01</td>\n",
       "      <td>NaN</td>\n",
       "      <td>http://us.imdb.com/M/title-exact?Get%20Shorty%...</td>\n",
       "      <td>0</td>\n",
       "      <td>1</td>\n",
       "      <td>0</td>\n",
       "      <td>0</td>\n",
       "      <td>0</td>\n",
       "      <td>...</td>\n",
       "      <td>0</td>\n",
       "      <td>0</td>\n",
       "      <td>0</td>\n",
       "      <td>0</td>\n",
       "      <td>0</td>\n",
       "      <td>1995</td>\n",
       "      <td>164</td>\n",
       "      <td>45</td>\n",
       "      <td>0.002208</td>\n",
       "      <td>0.001748</td>\n",
       "    </tr>\n",
       "    <tr>\n",
       "      <td>4</td>\n",
       "      <td>5</td>\n",
       "      <td>Copycat (1995)</td>\n",
       "      <td>1995-01-01</td>\n",
       "      <td>NaN</td>\n",
       "      <td>http://us.imdb.com/M/title-exact?Copycat%20(1995)</td>\n",
       "      <td>0</td>\n",
       "      <td>0</td>\n",
       "      <td>0</td>\n",
       "      <td>0</td>\n",
       "      <td>0</td>\n",
       "      <td>...</td>\n",
       "      <td>0</td>\n",
       "      <td>0</td>\n",
       "      <td>1</td>\n",
       "      <td>0</td>\n",
       "      <td>0</td>\n",
       "      <td>1995</td>\n",
       "      <td>64</td>\n",
       "      <td>22</td>\n",
       "      <td>0.000862</td>\n",
       "      <td>0.000855</td>\n",
       "    </tr>\n",
       "  </tbody>\n",
       "</table>\n",
       "<p>5 rows × 29 columns</p>\n",
       "</div>"
      ],
      "text/plain": [
       "   movie id        movie title release date  video release date  \\\n",
       "0         1   Toy Story (1995)   1995-01-01                 NaN   \n",
       "1         2   GoldenEye (1995)   1995-01-01                 NaN   \n",
       "2         3  Four Rooms (1995)   1995-01-01                 NaN   \n",
       "3         4  Get Shorty (1995)   1995-01-01                 NaN   \n",
       "4         5     Copycat (1995)   1995-01-01                 NaN   \n",
       "\n",
       "                                            IMDb URL  unknown  Action  \\\n",
       "0  http://us.imdb.com/M/title-exact?Toy%20Story%2...        0       0   \n",
       "1  http://us.imdb.com/M/title-exact?GoldenEye%20(...        0       1   \n",
       "2  http://us.imdb.com/M/title-exact?Four%20Rooms%...        0       0   \n",
       "3  http://us.imdb.com/M/title-exact?Get%20Shorty%...        0       1   \n",
       "4  http://us.imdb.com/M/title-exact?Copycat%20(1995)        0       0   \n",
       "\n",
       "   Adventure  Animation  Children's  ...  Romance  Sci-Fi  Thriller  War  \\\n",
       "0          0          1           1  ...        0       0         0    0   \n",
       "1          1          0           0  ...        0       0         1    0   \n",
       "2          0          0           0  ...        0       0         1    0   \n",
       "3          0          0           0  ...        0       0         0    0   \n",
       "4          0          0           0  ...        0       0         1    0   \n",
       "\n",
       "   Western  release year  male ratings  female ratings  \\\n",
       "0        0          1995           333             119   \n",
       "1        0          1995           112              19   \n",
       "2        0          1995            74              16   \n",
       "3        0          1995           164              45   \n",
       "4        0          1995            64              22   \n",
       "\n",
       "   male ratings normalised  female ratings normalised  \n",
       "0                 0.004484                   0.004623  \n",
       "1                 0.001508                   0.000738  \n",
       "2                 0.000996                   0.000622  \n",
       "3                 0.002208                   0.001748  \n",
       "4                 0.000862                   0.000855  \n",
       "\n",
       "[5 rows x 29 columns]"
      ]
     },
     "execution_count": 67,
     "metadata": {},
     "output_type": "execute_result"
    }
   ],
   "source": [
    "df_items_gen.head()"
   ]
  },
  {
   "cell_type": "markdown",
   "metadata": {},
   "source": [
    "5.1: Men watch more drama than women"
   ]
  },
  {
   "cell_type": "code",
   "execution_count": 68,
   "metadata": {},
   "outputs": [
    {
     "name": "stdout",
     "output_type": "stream",
     "text": [
      "0.3889981147320213\n"
     ]
    }
   ],
   "source": [
    "drama_male_ratings = df_items_gen.groupby(['Drama'])['male ratings normalised'].sum()[1]\n",
    "print(drama_male_ratings)"
   ]
  },
  {
   "cell_type": "code",
   "execution_count": 69,
   "metadata": {},
   "outputs": [
    {
     "name": "stdout",
     "output_type": "stream",
     "text": [
      "0.4276612276612252\n"
     ]
    }
   ],
   "source": [
    "drama_female_ratings = df_items_gen.groupby(['Drama'])['female ratings normalised'].sum()[1]\n",
    "print(drama_female_ratings)"
   ]
  },
  {
   "cell_type": "markdown",
   "metadata": {},
   "source": [
    "Men watch more drama than women - answer: false"
   ]
  },
  {
   "cell_type": "markdown",
   "metadata": {},
   "source": [
    "5.2: Men watch more romance than women"
   ]
  },
  {
   "cell_type": "code",
   "execution_count": 70,
   "metadata": {},
   "outputs": [
    {
     "name": "stdout",
     "output_type": "stream",
     "text": [
      "0.18318071640183142\n"
     ]
    }
   ],
   "source": [
    "romance_male_ratings = df_items_gen.groupby(['Romance'])['male ratings normalised'].sum()[1]\n",
    "print(romance_male_ratings)"
   ]
  },
  {
   "cell_type": "code",
   "execution_count": 71,
   "metadata": {},
   "outputs": [
    {
     "name": "stdout",
     "output_type": "stream",
     "text": [
      "0.22758352758352765\n"
     ]
    }
   ],
   "source": [
    "romance_female_ratings = df_items_gen.groupby(['Romance'])['female ratings normalised'].sum()[1]\n",
    "print(romance_female_ratings)"
   ]
  },
  {
   "cell_type": "markdown",
   "metadata": {},
   "source": [
    "Men watch more romance than women - answer: false"
   ]
  },
  {
   "cell_type": "markdown",
   "metadata": {},
   "source": [
    "5.3: Women watch more sci-fi than men"
   ]
  },
  {
   "cell_type": "code",
   "execution_count": 72,
   "metadata": {},
   "outputs": [
    {
     "name": "stdout",
     "output_type": "stream",
     "text": [
      "0.136022084567735\n"
     ]
    }
   ],
   "source": [
    "scifi_male_ratings = df_items_gen.groupby(['Sci-Fi'])['male ratings normalised'].sum()[1]\n",
    "print(scifi_male_ratings)"
   ]
  },
  {
   "cell_type": "code",
   "execution_count": 73,
   "metadata": {
    "scrolled": true
   },
   "outputs": [
    {
     "name": "stdout",
     "output_type": "stream",
     "text": [
      "0.10213675213675205\n"
     ]
    }
   ],
   "source": [
    "scifi_female_ratings = df_items_gen.groupby(['Sci-Fi'])['female ratings normalised'].sum()[1]\n",
    "print(scifi_female_ratings)"
   ]
  },
  {
   "cell_type": "markdown",
   "metadata": {},
   "source": [
    "Women watch more sci-fi than men - answer: false"
   ]
  },
  {
   "cell_type": "code",
   "execution_count": null,
   "metadata": {},
   "outputs": [],
   "source": [
    "Genre_by_gender = result.groupby('Gender').sum().loc[:,'Action':'Western'] \n",
    "Genre_by_gender['total'] = Genre_by_gender.sum(axis = 1)\n",
    "Genre_by_gender.div(Genre_by_gender.total, axis= 0) * 100 \n"
   ]
  }
 ],
 "metadata": {
  "kernelspec": {
   "display_name": "Python 3",
   "language": "python",
   "name": "python3"
  },
  "language_info": {
   "codemirror_mode": {
    "name": "ipython",
    "version": 3
   },
   "file_extension": ".py",
   "mimetype": "text/x-python",
   "name": "python",
   "nbconvert_exporter": "python",
   "pygments_lexer": "ipython3",
   "version": "3.7.5"
  }
 },
 "nbformat": 4,
 "nbformat_minor": 2
}
